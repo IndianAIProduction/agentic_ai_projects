{
 "cells": [
  {
   "cell_type": "markdown",
   "id": "f5e050ee",
   "metadata": {},
   "source": [
    "<!DOCTYPE html>\n",
    "<html lang=\"en\">\n",
    "<head>\n",
    "  <meta charset=\"UTF-8\">\n",
    "  <title>What Are Tools in Agentic AI?</title>\n",
    "  <style>\n",
    "    body { font-family: 'Segoe UI', Arial, sans-serif; background: #fafbfc; color: #23272f; line-height: 1.7; margin: 0; padding: 2rem; }\n",
    "    h1, h2, h3 { color: #2057cb; }\n",
    "    table {\n",
    "      background-color: yellow;\n",
    "      color: black;\n",
    "      border-collapse: collapse;\n",
    "      width: 100%;\n",
    "      margin: 1.5em 0;\n",
    "    }\n",
    "    th, td {\n",
    "      border: 1px solid #000;\n",
    "      padding: 0.75em;\n",
    "      text-align: left;\n",
    "    }\n",
    "    th {\n",
    "      background: #ffe066;\n",
    "      color: black;\n",
    "    }\n",
    "    tr:nth-child(even) { background: #fff6b3; }\n",
    "    .highlight { background: #e0f5e6; padding: 0.7em; border-radius: 5px; margin: 1em 0; }\n",
    "    ul, ol { margin-bottom: 1em; }\n",
    "    @media (max-width: 700px) {\n",
    "      body { padding: 1rem; }\n",
    "      table, th, td { font-size: 0.98em; }\n",
    "    }\n",
    "  </style>\n",
    "</head>\n",
    "<body>\n",
    "  <h1>🛠️ What Are Tools in Agentic AI?</h1>\n",
    "  <p><strong>Tools</strong> are special functions or APIs that an agent can call to perform tasks <strong>beyond just generating text</strong>.<br>\n",
    "  They are how an AI agent can “take actions” in the real world or fetch real-time information, not just respond with words.</p>\n",
    "  \n",
    "  <h2>🔑 Key Ideas</h2>\n",
    "  <ul>\n",
    "    <li><strong>Think of tools as capabilities or “superpowers” you give your agent.</strong></li>\n",
    "    <li>The agent decides (using its language model) <em>when</em> and <em>how</em> to use a tool, based on user input and its reasoning.</li>\n",
    "  </ul>\n",
    "  \n",
    "  <h2>🧩 Common Examples of Tools</h2>\n",
    "  <table>\n",
    "    <thead>\n",
    "      <tr>\n",
    "        <th>Tool Type</th>\n",
    "        <th>What It Does</th>\n",
    "        <th>Example</th>\n",
    "      </tr>\n",
    "    </thead>\n",
    "    <tbody>\n",
    "      <tr>\n",
    "        <td>Search Tool</td>\n",
    "        <td>Looks up info on the web</td>\n",
    "        <td>Google search API, Tavily</td>\n",
    "      </tr>\n",
    "      <tr>\n",
    "        <td>Calculator Tool</td>\n",
    "        <td>Performs math calculations</td>\n",
    "        <td>Custom Python function</td>\n",
    "      </tr>\n",
    "      <tr>\n",
    "        <td>Database/Knowledge Tool</td>\n",
    "        <td>Queries a database or knowledge base</td>\n",
    "        <td>SQL query, Wikipedia retriever</td>\n",
    "      </tr>\n",
    "      <tr>\n",
    "        <td>API Tool</td>\n",
    "        <td>Interacts with other software/services</td>\n",
    "        <td>Weather API, Email sender</td>\n",
    "      </tr>\n",
    "      <tr>\n",
    "        <td>File Tool</td>\n",
    "        <td>Reads/writes files</td>\n",
    "        <td>File uploader, PDF reader</td>\n",
    "      </tr>\n",
    "      <tr>\n",
    "        <td>Custom Action</td>\n",
    "        <td>Any logic you define in code</td>\n",
    "        <td>Turn on a smart light, send SMS</td>\n",
    "      </tr>\n",
    "    </tbody>\n",
    "  </table>\n",
    "  \n",
    "  <h2>⚡ Why Tools Matter</h2>\n",
    "  <ul>\n",
    "    <li><strong>Extend LLM abilities:</strong> Language models (like GPT-4) are great at conversation, but can’t search the web, do complex math, or interact with your systems <em>unless</em> you give them tools.</li>\n",
    "    <li><strong>Real-world actions:</strong> Agents become truly “autonomous” and “useful” when they can <em>do</em> things, not just <em>say</em> things.</li>\n",
    "    <li><strong>Modular:</strong> You can add/remove tools based on what you want your agent to be able to do.</li>\n",
    "  </ul>\n",
    "  \n",
    "  <h2>🚩 In Summary</h2>\n",
    "  <ul>\n",
    "    <li><strong>Tools in Agentic AI = Actions/functions/APIs the agent can use.</strong></li>\n",
    "    <li>They make the agent much more powerful, letting it <em>do</em> things (not just chat).</li>\n",
    "    <li>Tools can be prebuilt (like web search) or custom (anything you code).</li>\n",
    "    <li>Tools you can explore: <a href=\"https://python.langchain.com/docs/integrations/tools/\" target=\"_blank\">https://python.langchain.com/docs/integrations/tools/</a></li>\n",
    "\n",
    "  </ul>\n",
    "  \n",
    "</body>\n",
    "</html>\n"
   ]
  },
  {
   "cell_type": "code",
   "execution_count": 1,
   "id": "410859a5",
   "metadata": {},
   "outputs": [
    {
     "name": "stderr",
     "output_type": "stream",
     "text": [
      "a:\\Indian_AI_Production_5\\agentic_ai\\agentic_ai_projects\\venv\\Lib\\site-packages\\tqdm\\auto.py:21: TqdmWarning: IProgress not found. Please update jupyter and ipywidgets. See https://ipywidgets.readthedocs.io/en/stable/user_install.html\n",
      "  from .autonotebook import tqdm as notebook_tqdm\n"
     ]
    },
    {
     "data": {
      "text/plain": [
       "True"
      ]
     },
     "execution_count": 1,
     "metadata": {},
     "output_type": "execute_result"
    }
   ],
   "source": [
    "from typing import Annotated, TypedDict\n",
    "from langgraph.graph import StateGraph, START, END\n",
    "from langgraph.graph.message import add_messages\n",
    "from langchain.chat_models import init_chat_model\n",
    "import gradio as gr\n",
    "\n",
    "from langgraph.prebuilt import ToolNode, tools_condition\n",
    "\n",
    "from dotenv import load_dotenv\n",
    "load_dotenv(override=True)"
   ]
  },
  {
   "cell_type": "code",
   "execution_count": 2,
   "id": "bd1e5562",
   "metadata": {},
   "outputs": [],
   "source": [
    "from langchain_tavily import TavilySearch\n",
    "\n",
    "search_tool = TavilySearch(\n",
    "    max_results=4,\n",
    "    # topic=\"general\",\n",
    "    # include_answer=False,\n",
    "    # include_raw_content=False,\n",
    "    # include_images=False,\n",
    "    # include_image_descriptions=False,\n",
    "    # search_depth=\"basic\",\n",
    "    # time_range=\"day\",\n",
    "    # include_domains=None,\n",
    "    # exclude_domains=None\n",
    ")"
   ]
  },
  {
   "cell_type": "code",
   "execution_count": 3,
   "id": "889dd9d7",
   "metadata": {},
   "outputs": [
    {
     "data": {
      "text/plain": [
       "{'query': 'What is Indian AI Production?',\n",
       " 'follow_up_questions': None,\n",
       " 'answer': None,\n",
       " 'images': [],\n",
       " 'results': [{'url': 'https://indianaiproduction.com/',\n",
       "   'title': 'Indian AI Production: Home',\n",
       "   'content': 'Indian AI Production provide online training in disciplines such as Artificial Intelligence, Machine Learning, Deep Learning, and Data Science among others,',\n",
       "   'score': 0.98541,\n",
       "   'raw_content': None},\n",
       "  {'url': 'https://indianaiproduction.com/about-us/',\n",
       "   'title': 'About Us - Indian AI Production',\n",
       "   'content': 'Indian AI Production provide online training in disciplines such as Artificial Intelligence, Machine Learning, Deep Learning, and Data Science among others,',\n",
       "   'score': 0.98188,\n",
       "   'raw_content': None},\n",
       "  {'url': 'https://en.wikipedia.org/wiki/Artificial_intelligence_in_India',\n",
       "   'title': 'Artificial intelligence in India - Wikipedia',\n",
       "   'content': 'In India, the development of AI has been similarly transformative, with applications in healthcare, finance, and education, bolstered by government initiatives like NITI Aayog\\'s 2018 National Strategy for Artificial Intelligence. As part of the **Indian Fifth Generation Computer Systems Research Programme**, the Department of Electronics, with support from the United Nations Development Programme, initiated the **Knowledge Based Computer Systems Project** in 1986, marking the beginning of India\\'s first major AI research program. Under the direction of Professor KV Ramakrishnamacharyulu from National Sanskrit University and Professor Rajeev Sangal from the International Institute of Information Technology, Hyderabad, the Akshar Bharati Research Group was established in 1984 with support from IIT Kanpur and the University of Hyderabad for computational processing of Indian languages \"Indian languages (India)\").',\n",
       "   'score': 0.97782,\n",
       "   'raw_content': None},\n",
       "  {'url': 'https://in.linkedin.com/in/indianaiproduction',\n",
       "   'title': 'Indian AI Production Provide AI Education Free for Everyone | LinkedIn',\n",
       "   'content': 'Indian AI Production Provide AI Education Free for Everyone · Our Mission: To make the Indian Artificial Intelligence experts to save the world.',\n",
       "   'score': 0.9748,\n",
       "   'raw_content': None}],\n",
       " 'response_time': 1.25}"
      ]
     },
     "execution_count": 3,
     "metadata": {},
     "output_type": "execute_result"
    }
   ],
   "source": [
    "search_tool.invoke(\"What is Indian AI Production?\")"
   ]
  },
  {
   "cell_type": "code",
   "execution_count": 4,
   "id": "eb17e6ff",
   "metadata": {},
   "outputs": [],
   "source": [
    "class State(TypedDict):\n",
    "    messages: Annotated[list, add_messages]\n",
    "\n",
    "graph_builder = StateGraph(State)"
   ]
  },
  {
   "cell_type": "code",
   "execution_count": 5,
   "id": "86e166b4",
   "metadata": {},
   "outputs": [],
   "source": [
    "gpt_models_name = 'gpt-4.1-nano-2025-04-14'\n",
    "llm = init_chat_model(gpt_models_name)"
   ]
  },
  {
   "cell_type": "code",
   "execution_count": 6,
   "id": "83d01d73",
   "metadata": {},
   "outputs": [],
   "source": [
    "tools = [search_tool]\n",
    "\n",
    "llm_with_tools = llm.bind_tools(tools)"
   ]
  },
  {
   "cell_type": "code",
   "execution_count": 7,
   "id": "c0cb2fdc",
   "metadata": {},
   "outputs": [
    {
     "data": {
      "text/plain": [
       "AIMessage(content='', additional_kwargs={'tool_calls': [{'id': 'call_yLSrRaRGYipcOnzhvv0rX0eM', 'function': {'arguments': '{\"query\":\"current weather in Bangalore\"}', 'name': 'tavily_search'}, 'type': 'function'}], 'refusal': None}, response_metadata={'token_usage': {'completion_tokens': 19, 'prompt_tokens': 1276, 'total_tokens': 1295, 'completion_tokens_details': {'accepted_prediction_tokens': 0, 'audio_tokens': 0, 'reasoning_tokens': 0, 'rejected_prediction_tokens': 0}, 'prompt_tokens_details': {'audio_tokens': 0, 'cached_tokens': 0}}, 'model_name': 'gpt-4.1-nano-2025-04-14', 'system_fingerprint': 'fp_38343a2f8f', 'id': 'chatcmpl-C1FruhX8do4SJZiJpAYoIqHc5owSG', 'service_tier': 'default', 'finish_reason': 'tool_calls', 'logprobs': None}, id='run--e0991fb5-80e4-45ea-865b-390b95939ffc-0', tool_calls=[{'name': 'tavily_search', 'args': {'query': 'current weather in Bangalore'}, 'id': 'call_yLSrRaRGYipcOnzhvv0rX0eM', 'type': 'tool_call'}], usage_metadata={'input_tokens': 1276, 'output_tokens': 19, 'total_tokens': 1295, 'input_token_details': {'audio': 0, 'cache_read': 0}, 'output_token_details': {'audio': 0, 'reasoning': 0}})"
      ]
     },
     "execution_count": 7,
     "metadata": {},
     "output_type": "execute_result"
    }
   ],
   "source": [
    "llm_with_tools.invoke(['What is the current weather of Bangalore?'])"
   ]
  },
  {
   "cell_type": "code",
   "execution_count": 8,
   "id": "625a1201",
   "metadata": {},
   "outputs": [
    {
     "data": {
      "text/plain": [
       "AIMessage(content='Hello! How can I assist you today?', additional_kwargs={'refusal': None}, response_metadata={'token_usage': {'completion_tokens': 10, 'prompt_tokens': 1269, 'total_tokens': 1279, 'completion_tokens_details': {'accepted_prediction_tokens': 0, 'audio_tokens': 0, 'reasoning_tokens': 0, 'rejected_prediction_tokens': 0}, 'prompt_tokens_details': {'audio_tokens': 0, 'cached_tokens': 1152}}, 'model_name': 'gpt-4.1-nano-2025-04-14', 'system_fingerprint': 'fp_38343a2f8f', 'id': 'chatcmpl-C1FrwwKr24iJHFeuGzY4PESFl8kSu', 'service_tier': 'default', 'finish_reason': 'stop', 'logprobs': None}, id='run--29dc79f7-8029-40ed-bd07-0c12e8a79af2-0', usage_metadata={'input_tokens': 1269, 'output_tokens': 10, 'total_tokens': 1279, 'input_token_details': {'audio': 0, 'cache_read': 1152}, 'output_token_details': {'audio': 0, 'reasoning': 0}})"
      ]
     },
     "execution_count": 8,
     "metadata": {},
     "output_type": "execute_result"
    }
   ],
   "source": [
    "llm_with_tools.invoke(['Hi'])"
   ]
  },
  {
   "cell_type": "code",
   "execution_count": 9,
   "id": "b9e87962",
   "metadata": {},
   "outputs": [],
   "source": [
    "def chatbot(state: State)->State:\n",
    "    response = llm.bind_tools(tools).invoke(state['messages'])\n",
    "    return State(messages=response)"
   ]
  },
  {
   "cell_type": "code",
   "execution_count": 10,
   "id": "454afdc3",
   "metadata": {},
   "outputs": [],
   "source": [
    "tool_node = ToolNode(tools=tools)\n"
   ]
  },
  {
   "cell_type": "code",
   "execution_count": 11,
   "id": "6649314c",
   "metadata": {},
   "outputs": [
    {
     "data": {
      "text/plain": [
       "<langgraph.graph.state.StateGraph at 0x1fb0e753500>"
      ]
     },
     "execution_count": 11,
     "metadata": {},
     "output_type": "execute_result"
    }
   ],
   "source": [
    "graph_builder.add_node('chatbot', chatbot)\n",
    "graph_builder.add_node('tools', tool_node)"
   ]
  },
  {
   "cell_type": "code",
   "execution_count": 12,
   "id": "b5faf1fd",
   "metadata": {},
   "outputs": [
    {
     "data": {
      "text/plain": [
       "<langgraph.graph.state.StateGraph at 0x1fb0e753500>"
      ]
     },
     "execution_count": 12,
     "metadata": {},
     "output_type": "execute_result"
    }
   ],
   "source": [
    "graph_builder.add_edge(START, 'chatbot')\n",
    "graph_builder.add_conditional_edges('chatbot', tools_condition)\n",
    "graph_builder.add_edge('tools', 'chatbot')"
   ]
  },
  {
   "cell_type": "code",
   "execution_count": 13,
   "id": "4b690ba5",
   "metadata": {},
   "outputs": [
    {
     "data": {
      "image/png": "[encoded data removed]",
      "text/plain": [
       "<langgraph.graph.state.CompiledStateGraph object at 0x000001FB29D67C50>"
      ]
     },
     "execution_count": 13,
     "metadata": {},
     "output_type": "execute_result"
    }
   ],
   "source": [
    "graph = graph_builder.compile()\n",
    "graph"
   ]
  },
  {
   "cell_type": "code",
   "execution_count": 14,
   "id": "cfe5c005",
   "metadata": {},
   "outputs": [
    {
     "data": {
      "text/plain": [
       "{'messages': [HumanMessage(content='Who are you?', additional_kwargs={}, response_metadata={}, id='8d9a9fcc-919e-4a0b-9868-afcd493531ff'),\n",
       "  AIMessage(content='I am an AI language model created to assist with your questions and tasks. How can I help you today?', additional_kwargs={'refusal': None}, response_metadata={'token_usage': {'completion_tokens': 23, 'prompt_tokens': 1272, 'total_tokens': 1295, 'completion_tokens_details': {'accepted_prediction_tokens': 0, 'audio_tokens': 0, 'reasoning_tokens': 0, 'rejected_prediction_tokens': 0}, 'prompt_tokens_details': {'audio_tokens': 0, 'cached_tokens': 0}}, 'model_name': 'gpt-4.1-nano-2025-04-14', 'system_fingerprint': 'fp_38343a2f8f', 'id': 'chatcmpl-C1FxJBD4WJWLYhOlcwsPEra3Aa6i5', 'service_tier': 'default', 'finish_reason': 'stop', 'logprobs': None}, id='run--95268567-1e8b-422d-9be3-76a7d827e56e-0', usage_metadata={'input_tokens': 1272, 'output_tokens': 23, 'total_tokens': 1295, 'input_token_details': {'audio': 0, 'cache_read': 0}, 'output_token_details': {'audio': 0, 'reasoning': 0}})]}"
      ]
     },
     "execution_count": 14,
     "metadata": {},
     "output_type": "execute_result"
    }
   ],
   "source": [
    "graph_response = graph.invoke({'messages':[\"Who are you?\"]})\n",
    "graph_response"
   ]
  },
  {
   "cell_type": "code",
   "execution_count": 15,
   "id": "805d772d",
   "metadata": {},
   "outputs": [
    {
     "data": {
      "text/plain": [
       "{'messages': [HumanMessage(content='What is the current weather of Bangalore?', additional_kwargs={}, response_metadata={}, id='f15f7369-7901-414a-8b2c-8aa0b5d30dd6'),\n",
       "  AIMessage(content='', additional_kwargs={'tool_calls': [{'id': 'call_5Eu0w7RmEpoGM2KEnOellwtQ', 'function': {'arguments': '{\"query\":\"current weather in Bangalore\"}', 'name': 'tavily_search'}, 'type': 'function'}], 'refusal': None}, response_metadata={'token_usage': {'completion_tokens': 19, 'prompt_tokens': 1276, 'total_tokens': 1295, 'completion_tokens_details': {'accepted_prediction_tokens': 0, 'audio_tokens': 0, 'reasoning_tokens': 0, 'rejected_prediction_tokens': 0}, 'prompt_tokens_details': {'audio_tokens': 0, 'cached_tokens': 0}}, 'model_name': 'gpt-4.1-nano-2025-04-14', 'system_fingerprint': 'fp_38343a2f8f', 'id': 'chatcmpl-C1FzPBRUU0J9b9hGZpZlCwR3IzDoO', 'service_tier': 'default', 'finish_reason': 'tool_calls', 'logprobs': None}, id='run--464e9ba4-41e2-4afd-85ef-88fe19ce85de-0', tool_calls=[{'name': 'tavily_search', 'args': {'query': 'current weather in Bangalore'}, 'id': 'call_5Eu0w7RmEpoGM2KEnOellwtQ', 'type': 'tool_call'}], usage_metadata={'input_tokens': 1276, 'output_tokens': 19, 'total_tokens': 1295, 'input_token_details': {'audio': 0, 'cache_read': 0}, 'output_token_details': {'audio': 0, 'reasoning': 0}}),\n",
       "  ToolMessage(content='{\"query\": \"current weather in Bangalore\", \"follow_up_questions\": null, \"answer\": null, \"images\": [], \"results\": [{\"title\": \"Weather in Bangalore\", \"url\": \"https://www.weatherapi.com/\", \"content\": \"{\\'location\\': {\\'name\\': \\'Bangalore\\', \\'region\\': \\'Karnataka\\', \\'country\\': \\'India\\', \\'lat\\': 12.9833, \\'lon\\': 77.5833, \\'tz_id\\': \\'Asia/Kolkata\\', \\'localtime_epoch\\': 1754415588, \\'localtime\\': \\'2025-08-05 23:09\\'}, \\'current\\': {\\'last_updated_epoch\\': 1754415000, \\'last_updated\\': \\'2025-08-05 23:00\\', \\'temp_c\\': 22.2, \\'temp_f\\': 72.0, \\'is_day\\': 0, \\'condition\\': {\\'text\\': \\'Partly cloudy\\', \\'icon\\': \\'//cdn.weatherapi.com/weather/64x64/night/116.png\\', \\'code\\': 1003}, \\'wind_mph\\': 3.8, \\'wind_kph\\': 6.1, \\'wind_degree\\': 161, \\'wind_dir\\': \\'SSE\\', \\'pressure_mb\\': 1014.0, \\'pressure_in\\': 29.94, \\'precip_mm\\': 0.73, \\'precip_in\\': 0.03, \\'humidity\\': 88, \\'cloud\\': 50, \\'feelslike_c\\': 24.6, \\'feelslike_f\\': 76.3, \\'windchill_c\\': 24.3, \\'windchill_f\\': 75.8, \\'heatindex_c\\': 26.1, \\'heatindex_f\\': 79.0, \\'dewpoint_c\\': 19.7, \\'dewpoint_f\\': 67.4, \\'vis_km\\': 6.0, \\'vis_miles\\': 3.0, \\'uv\\': 0.0, \\'gust_mph\\': 5.8, \\'gust_kph\\': 9.4}}\", \"score\": 0.9595068, \"raw_content\": null}, {\"url\": \"https://www.indiatoday.in/weather/bangalore-weather-forecast-today\", \"title\": \"Bangalore Weather Today (Tuesday, Aug 05, 2025) - India Today\", \"content\": \"The minimum temperature in Bangalore today is likely to hover around 23 degrees Celsius, while the maximum temperature might reach 29 degrees Celsius.\", \"score\": 0.92825955, \"raw_content\": null}, {\"url\": \"https://www.metcheck.com/WEATHER/dayforecast.asp?location=Bangalore&locationID=2430072&lat=13&lon=77.6&dateFor=05/08/2025\", \"title\": \"Weather Forecast for Bangalore for Tuesday 5 August - Metcheck.com\", \"content\": \"Weather Forecast for Bangalore for Tuesday 5 August ; 9:00, 20 °c ; 12:00, 23 °c ; 15:00, 24 °c ; 18:00, 24 °c ; 21:00, 22 °c\", \"score\": 0.7283819, \"raw_content\": null}, {\"url\": \"https://www.aqi.in/weather/us/india/karnataka/bangalore\", \"title\": \"Bangalore Weather Conditions: Temperature | 30 Days Forecast\", \"content\": \"Current weather condition is Moderate or heavy rain with thunder with real-time temperature (28°C), humidity 58%, wind 9km/h, pressure (1012mb), UV (4.1),\", \"score\": 0.63804686, \"raw_content\": null}], \"response_time\": 1.9}', name='tavily_search', id='b9e6c063-58de-440f-9696-723fec52750a', tool_call_id='call_5Eu0w7RmEpoGM2KEnOellwtQ'),\n",
       "  AIMessage(content='The current weather in Bangalore is partly cloudy with a temperature of approximately 22.2°C. The humidity level is around 88%, and there is light wind coming from the south-southeast at about 6.1 km/h. The weather is relatively cool and slightly humid at this time.', additional_kwargs={'refusal': None}, response_metadata={'token_usage': {'completion_tokens': 61, 'prompt_tokens': 2104, 'total_tokens': 2165, 'completion_tokens_details': {'accepted_prediction_tokens': 0, 'audio_tokens': 0, 'reasoning_tokens': 0, 'rejected_prediction_tokens': 0}, 'prompt_tokens_details': {'audio_tokens': 0, 'cached_tokens': 0}}, 'model_name': 'gpt-4.1-nano-2025-04-14', 'system_fingerprint': 'fp_38343a2f8f', 'id': 'chatcmpl-C1FzTTtQPksWrd3jtN5Oon7gGR4VK', 'service_tier': 'default', 'finish_reason': 'stop', 'logprobs': None}, id='run--72e9508f-90e9-4b02-91fa-443af0a3e81a-0', usage_metadata={'input_tokens': 2104, 'output_tokens': 61, 'total_tokens': 2165, 'input_token_details': {'audio': 0, 'cache_read': 0}, 'output_token_details': {'audio': 0, 'reasoning': 0}})]}"
      ]
     },
     "execution_count": 15,
     "metadata": {},
     "output_type": "execute_result"
    }
   ],
   "source": [
    "graph_response = graph.invoke({'messages':['What is the current weather of Bangalore?']})\n",
    "graph_response"
   ]
  },
  {
   "cell_type": "code",
   "execution_count": 18,
   "id": "338438d0",
   "metadata": {},
   "outputs": [],
   "source": [
    "human_message = graph_response['messages'][0].content\n",
    "ai_message = graph_response['messages'][-1].content"
   ]
  },
  {
   "cell_type": "code",
   "execution_count": 22,
   "id": "927098a8",
   "metadata": {},
   "outputs": [
    {
     "name": "stdout",
     "output_type": "stream",
     "text": [
      "Human message:  What is the current weather of Bangalore?\n",
      "AI message:  The current weather in Bangalore is partly cloudy with a temperature of approximately 22.2°C. The humidity level is around 88%, and there is light wind coming from the south-southeast at about 6.1 km/h. The weather is relatively cool and slightly humid at this time.\n"
     ]
    }
   ],
   "source": [
    "print(\"Human message: \", human_message)\n",
    "print(\"AI message: \", ai_message)"
   ]
  },
  {
   "cell_type": "code",
   "execution_count": 23,
   "id": "87707bab",
   "metadata": {},
   "outputs": [],
   "source": [
    "def chatbot_app(user_input: str, history)->str:\n",
    "    initial_state = State(messages=[{'role':'user', 'content':user_input}])\n",
    "    response = graph.invoke(initial_state)\n",
    "\n",
    "    huamn_message = response['messages'][0].content\n",
    "    ai_message = response['messages'][-1].content\n",
    "\n",
    "    print(\"User :\", huamn_message)\n",
    "    print(\"AI :\", ai_message)\n",
    "    print(\"--\"*20)\n",
    "\n",
    "    return ai_message"
   ]
  },
  {
   "cell_type": "code",
   "execution_count": null,
   "id": "803a834b",
   "metadata": {},
   "outputs": [
    {
     "name": "stdout",
     "output_type": "stream",
     "text": [
      "* Running on local URL:  http://127.0.0.1:7860\n",
      "* To create a public link, set `share=True` in `launch()`.\n"
     ]
    },
    {
     "data": {
      "text/html": [
       "<div><iframe src=\"http://127.0.0.1:7860/\" width=\"100%\" height=\"500\" allow=\"autoplay; camera; microphone; clipboard-read; clipboard-write;\" frameborder=\"0\" allowfullscreen></iframe></div>"
      ],
      "text/plain": [
       "<IPython.core.display.HTML object>"
      ]
     },
     "metadata": {},
     "output_type": "display_data"
    },
    {
     "data": {
      "text/plain": []
     },
     "execution_count": 24,
     "metadata": {},
     "output_type": "execute_result"
    },
    {
     "name": "stdout",
     "output_type": "stream",
     "text": [
      "User : Hi\n",
      "AI : Hello! How can I assist you today?\n",
      "----------------------------------------\n",
      "User : what is my name\n",
      "AI : I don't know your name. Could you please tell me what it is?\n",
      "----------------------------------------\n",
      "User : my name is Raju\n",
      "AI : Hello, Raju! How can I assist you today?\n",
      "----------------------------------------\n",
      "User : what is my name\n",
      "AI : I don't know your name. Could you please tell me your name?\n",
      "----------------------------------------\n",
      "User : what is todays date\n",
      "AI : Today's date is April 27, 2024.\n",
      "----------------------------------------\n",
      "User : todays date is 5 aug 2025\n",
      "AI : Got it. Today's date is August 5, 2025. How can I assist you today?\n",
      "----------------------------------------\n",
      "User : what is current date\n",
      "AI : I don't have real-time capabilities to access the current date. However, you can easily find the current date on your device or by asking a digital assistant. Would you like me to help with anything else?\n",
      "----------------------------------------\n",
      "User : what is current weather of Delhi\n",
      "AI : The current weather in Delhi is sunny with a temperature of about 27.7°C (81.9°F). The humidity is around 45%, and there are no signs of precipitation at the moment. The wind is blowing from the southeast at approximately 8.9 mph.\n",
      "----------------------------------------\n"
     ]
    }
   ],
   "source": [
    "gr.ChatInterface(chatbot_app, type='messages').launch()"
   ]
  },
  {
   "cell_type": "code",
   "execution_count": null,
   "id": "9d40981f",
   "metadata": {},
   "outputs": [],
   "source": []
  }
 ],
 "metadata": {
  "kernelspec": {
   "display_name": "venv",
   "language": "python",
   "name": "python3"
  },
  "language_info": {
   "codemirror_mode": {
    "name": "ipython",
    "version": 3
   },
   "file_extension": ".py",
   "mimetype": "text/x-python",
   "name": "python",
   "nbconvert_exporter": "python",
   "pygments_lexer": "ipython3",
   "version": "3.12.0"
  }
 },
 "nbformat": 4,
 "nbformat_minor": 5
}
