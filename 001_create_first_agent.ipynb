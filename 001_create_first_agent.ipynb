{
 "cells": [
  {
   "cell_type": "markdown",
   "id": "ce4d1dc8",
   "metadata": {},
   "source": [
    "<table border=\"1\" cellpadding=\"8\" cellspacing=\"0\">\n",
    "  <thead>\n",
    "    <tr style=\"background-color:yellow; color: black;\">\n",
    "      <th>Primitive</th>\n",
    "      <th>Purpose</th>\n",
    "      <th>Analogy</th>\n",
    "    </tr>\n",
    "  </thead>\n",
    "  <tbody>\n",
    "    <tr>\n",
    "      <td><strong>Node</strong></td>\n",
    "      <td>A function that processes and updates the state</td>\n",
    "      <td>Building block</td>\n",
    "    </tr>\n",
    "    <tr>\n",
    "      <td><strong>Edge</strong></td>\n",
    "      <td>Connection from one node to another to define execution flow</td>\n",
    "      <td>Arrow / Transition</td>\n",
    "    </tr>\n",
    "    <tr>\n",
    "      <td><strong>State</strong></td>\n",
    "      <td>Dictionary that carries data between nodes</td>\n",
    "      <td>Memory / Package</td>\n",
    "    </tr>\n",
    "    <tr>\n",
    "      <td><strong>Graph Flow</strong></td>\n",
    "      <td>The engine that runs nodes based on defined edges</td>\n",
    "      <td>Traffic system</td>\n",
    "    </tr>\n",
    "  </tbody>\n",
    "</table>\n"
   ]
  },
  {
   "cell_type": "code",
   "execution_count": 2,
   "id": "09e3c648",
   "metadata": {},
   "outputs": [],
   "source": [
    "from typing import Annotated, TypedDict\n",
    "from langgraph.graph import StateGraph, START, END\n",
    "from langgraph.graph.message import add_messages"
   ]
  },
  {
   "cell_type": "markdown",
   "id": "e52a6e24",
   "metadata": {},
   "source": [
    "### Define the State </br>\n",
    "🧠Think of state as a memory box.</br>\n",
    "\n",
    "It stores the chat history (messages) so your chatbot can remember what the user said.</br>\n",
    "\n",
    "Tip: This state will get passed to each part (node) of the chatbot workflow.</br>"
   ]
  },
  {
   "cell_type": "code",
   "execution_count": 3,
   "id": "51986f0f",
   "metadata": {},
   "outputs": [],
   "source": [
    "class State(TypedDict):\n",
    "    messages: Annotated[list, add_messages]"
   ]
  },
  {
   "cell_type": "markdown",
   "id": "5c36ed12",
   "metadata": {},
   "source": [
    "### Initialize the Graph </br>\n",
    "A graph connects different parts of your chatbot (like thinking, responding).</br>\n",
    "This line tells LangGraph: \"We're going to build a graph that uses the State we just defined.\"</br>\n"
   ]
  },
  {
   "cell_type": "code",
   "execution_count": 4,
   "id": "e957f2a0",
   "metadata": {},
   "outputs": [],
   "source": [
    "graph_builder = StateGraph(State)"
   ]
  },
  {
   "cell_type": "markdown",
   "id": "bdc8d56e",
   "metadata": {},
   "source": [
    "### Create the Greet Node </br>\n",
    "A node is a function — it does one task. </br> Here, this node takes the conversation (state[\"messages\"])</br>Then, it adds the reply to the message history."
   ]
  },
  {
   "cell_type": "code",
   "execution_count": 5,
   "id": "a6668659",
   "metadata": {},
   "outputs": [],
   "source": [
    "def greet(state: State)-> State:\n",
    "    print(\"Greet state format: \", state)\n",
    "\n",
    "    state['messages'] = ['Hello From Indian AI Production']\n",
    "\n",
    "    return {'messages': state['messages']}"
   ]
  },
  {
   "cell_type": "code",
   "execution_count": 6,
   "id": "7be16acd",
   "metadata": {},
   "outputs": [
    {
     "name": "stdout",
     "output_type": "stream",
     "text": [
      "Greet state format:  {'messages': []}\n"
     ]
    },
    {
     "data": {
      "text/plain": [
       "{'messages': ['Hello From Indian AI Production']}"
      ]
     },
     "execution_count": 6,
     "metadata": {},
     "output_type": "execute_result"
    }
   ],
   "source": [
    "greet({'messages': []})"
   ]
  },
  {
   "cell_type": "markdown",
   "id": "bda493a2",
   "metadata": {},
   "source": [
    "\n",
    "### Add Node and Edges to the Graph"
   ]
  },
  {
   "cell_type": "code",
   "execution_count": 7,
   "id": "7ef77bf3",
   "metadata": {},
   "outputs": [
    {
     "data": {
      "text/plain": [
       "<langgraph.graph.state.StateGraph at 0x1f4e4b0e1b0>"
      ]
     },
     "execution_count": 7,
     "metadata": {},
     "output_type": "execute_result"
    }
   ],
   "source": [
    "graph_builder.add_node('greet', greet)\n",
    "graph_builder.add_edge(START, 'greet')\n",
    "graph_builder.add_edge('greet', END)"
   ]
  },
  {
   "cell_type": "code",
   "execution_count": 8,
   "id": "664c7a1b",
   "metadata": {},
   "outputs": [],
   "source": [
    "graph = graph_builder.compile()"
   ]
  },
  {
   "cell_type": "code",
   "execution_count": 9,
   "id": "b52288e9",
   "metadata": {},
   "outputs": [
    {
     "data": {
      "image/png": "[encoded data removed]",
      "text/plain": [
       "<langgraph.graph.state.CompiledStateGraph object at 0x000001F4E39E7860>"
      ]
     },
     "execution_count": 9,
     "metadata": {},
     "output_type": "execute_result"
    }
   ],
   "source": [
    "graph"
   ]
  },
  {
   "cell_type": "code",
   "execution_count": 10,
   "id": "b3a20982",
   "metadata": {},
   "outputs": [
    {
     "name": "stdout",
     "output_type": "stream",
     "text": [
      "Greet state format:  {'messages': []}\n"
     ]
    },
    {
     "data": {
      "text/plain": [
       "{'messages': [HumanMessage(content='Hello From Indian AI Production', additional_kwargs={}, response_metadata={}, id='2e76377a-4e91-4686-aa98-e1eb2cdbdb3d')]}"
      ]
     },
     "execution_count": 10,
     "metadata": {},
     "output_type": "execute_result"
    }
   ],
   "source": [
    "graph.invoke({'messsage': []})"
   ]
  },
  {
   "cell_type": "code",
   "execution_count": 16,
   "id": "db2a4f22",
   "metadata": {},
   "outputs": [
    {
     "name": "stdout",
     "output_type": "stream",
     "text": [
      "Greet state format:  {'messages': []}\n"
     ]
    },
    {
     "data": {
      "text/plain": [
       "'Hello From Indian AI Production'"
      ]
     },
     "execution_count": 16,
     "metadata": {},
     "output_type": "execute_result"
    }
   ],
   "source": [
    "graph.invoke({'messsage': ['Hi']})['messages'][0].content"
   ]
  },
  {
   "cell_type": "markdown",
   "id": "85b1be25",
   "metadata": {},
   "source": [
    "## Create Chatbot Agent powered by ChatGPT "
   ]
  },
  {
   "cell_type": "code",
   "execution_count": 29,
   "id": "0bcb9ccf",
   "metadata": {},
   "outputs": [
    {
     "name": "stderr",
     "output_type": "stream",
     "text": [
      "a:\\Indian_AI_Production_5\\agentic_ai\\agentic_ai_projects\\venv\\Lib\\site-packages\\tqdm\\auto.py:21: TqdmWarning: IProgress not found. Please update jupyter and ipywidgets. See https://ipywidgets.readthedocs.io/en/stable/user_install.html\n",
      "  from .autonotebook import tqdm as notebook_tqdm\n"
     ]
    },
    {
     "data": {
      "text/plain": [
       "True"
      ]
     },
     "execution_count": 29,
     "metadata": {},
     "output_type": "execute_result"
    }
   ],
   "source": [
    "from langchain.chat_models import init_chat_model\n",
    "import gradio as gr\n",
    "from dotenv import load_dotenv\n",
    "load_dotenv(override=True)"
   ]
  },
  {
   "cell_type": "code",
   "execution_count": 18,
   "id": "8f389fb7",
   "metadata": {},
   "outputs": [],
   "source": [
    "class State(TypedDict):\n",
    "    messages: Annotated[list, add_messages]"
   ]
  },
  {
   "cell_type": "code",
   "execution_count": 19,
   "id": "37e5c3bf",
   "metadata": {},
   "outputs": [],
   "source": [
    "graph_builder = StateGraph(State)"
   ]
  },
  {
   "cell_type": "code",
   "execution_count": 23,
   "id": "df1aeaf5",
   "metadata": {},
   "outputs": [],
   "source": [
    "def chatbot(state: State)-> State:\n",
    "    user_input = state['messages']\n",
    "    gpt_models_name = 'gpt-4.1-nano-2025-04-14'\n",
    "    llm = init_chat_model(gpt_models_name)\n",
    "    response = llm.invoke(user_input)\n",
    "\n",
    "    return {'messages': [response]}"
   ]
  },
  {
   "cell_type": "code",
   "execution_count": 25,
   "id": "940d3d4f",
   "metadata": {},
   "outputs": [
    {
     "data": {
      "text/plain": [
       "{'messages': [AIMessage(content='Hello! How can I assist you today?', additional_kwargs={'refusal': None}, response_metadata={'token_usage': {'completion_tokens': 9, 'prompt_tokens': 8, 'total_tokens': 17, 'completion_tokens_details': {'accepted_prediction_tokens': 0, 'audio_tokens': 0, 'reasoning_tokens': 0, 'rejected_prediction_tokens': 0}, 'prompt_tokens_details': {'audio_tokens': 0, 'cached_tokens': 0}}, 'model_name': 'gpt-4.1-nano-2025-04-14', 'system_fingerprint': 'fp_38343a2f8f', 'id': 'chatcmpl-Bz6bhyXEw5apsxYeNFWYIXWOg94j6', 'service_tier': 'default', 'finish_reason': 'stop', 'logprobs': None}, id='run--512a3cc5-5f40-45e0-81af-f187c677e3cf-0', usage_metadata={'input_tokens': 8, 'output_tokens': 9, 'total_tokens': 17, 'input_token_details': {'audio': 0, 'cache_read': 0}, 'output_token_details': {'audio': 0, 'reasoning': 0}})]}"
      ]
     },
     "execution_count": 25,
     "metadata": {},
     "output_type": "execute_result"
    }
   ],
   "source": [
    "chatbot({'messages':[\"Hi\"]})"
   ]
  },
  {
   "cell_type": "code",
   "execution_count": 26,
   "id": "d65fb990",
   "metadata": {},
   "outputs": [
    {
     "data": {
      "text/plain": [
       "<langgraph.graph.state.StateGraph at 0x1f4e4b0f680>"
      ]
     },
     "execution_count": 26,
     "metadata": {},
     "output_type": "execute_result"
    }
   ],
   "source": [
    "graph_builder.add_node('chatbot', chatbot)\n",
    "graph_builder.add_edge(START, 'chatbot')\n",
    "graph_builder.add_edge('chatbot',END)"
   ]
  },
  {
   "cell_type": "code",
   "execution_count": 27,
   "id": "3fbc4016",
   "metadata": {},
   "outputs": [
    {
     "data": {
      "image/png": "[encoded data removed]",
      "text/plain": [
       "<langgraph.graph.state.CompiledStateGraph object at 0x000001F4FF2BEC60>"
      ]
     },
     "execution_count": 27,
     "metadata": {},
     "output_type": "execute_result"
    }
   ],
   "source": [
    "graph = graph_builder.compile()\n",
    "graph"
   ]
  },
  {
   "cell_type": "code",
   "execution_count": 30,
   "id": "917ec2e0",
   "metadata": {},
   "outputs": [],
   "source": [
    "graph_response = graph.invoke({'messages':[\"Who are you?\"]})"
   ]
  },
  {
   "cell_type": "code",
   "execution_count": 31,
   "id": "cc84a4cd",
   "metadata": {},
   "outputs": [
    {
     "data": {
      "text/plain": [
       "{'messages': [HumanMessage(content='Who are you?', additional_kwargs={}, response_metadata={}, id='6d760ed1-aa79-4063-8afe-4478a6163c85'),\n",
       "  AIMessage(content='Hello! I’m ChatGPT, an AI language model developed to assist with your questions, provide information, and engage in conversations. How can I help you today?', additional_kwargs={'refusal': None}, response_metadata={'token_usage': {'completion_tokens': 33, 'prompt_tokens': 11, 'total_tokens': 44, 'completion_tokens_details': {'accepted_prediction_tokens': 0, 'audio_tokens': 0, 'reasoning_tokens': 0, 'rejected_prediction_tokens': 0}, 'prompt_tokens_details': {'audio_tokens': 0, 'cached_tokens': 0}}, 'model_name': 'gpt-4.1-nano-2025-04-14', 'system_fingerprint': 'fp_38343a2f8f', 'id': 'chatcmpl-Bz6lm0yzLX1ydAIlewAU6aZAkqsi2', 'service_tier': 'default', 'finish_reason': 'stop', 'logprobs': None}, id='run--cf511c52-4e66-4a32-b49b-f11143fdbb71-0', usage_metadata={'input_tokens': 11, 'output_tokens': 33, 'total_tokens': 44, 'input_token_details': {'audio': 0, 'cache_read': 0}, 'output_token_details': {'audio': 0, 'reasoning': 0}})]}"
      ]
     },
     "execution_count": 31,
     "metadata": {},
     "output_type": "execute_result"
    }
   ],
   "source": [
    "graph_response"
   ]
  },
  {
   "cell_type": "code",
   "execution_count": 34,
   "id": "75785dae",
   "metadata": {},
   "outputs": [
    {
     "data": {
      "text/plain": [
       "('Who are you?',\n",
       " 'Hello! I’m ChatGPT, an AI language model developed to assist with your questions, provide information, and engage in conversations. How can I help you today?')"
      ]
     },
     "execution_count": 34,
     "metadata": {},
     "output_type": "execute_result"
    }
   ],
   "source": [
    "HumanMessage = graph_response['messages'][0].content\n",
    "AIMessage = graph_response['messages'][-1].content\n",
    "HumanMessage, AIMessage"
   ]
  },
  {
   "cell_type": "code",
   "execution_count": 35,
   "id": "58a19474",
   "metadata": {},
   "outputs": [],
   "source": [
    "def chatbot_app(user_input: str, history)->str:\n",
    "    initial_state = State(messages=[{'role':'user', 'content':user_input}])\n",
    "    response = graph.invoke(initial_state)\n",
    "\n",
    "    huamn_message = response['messages'][0].content\n",
    "    ai_message = response['messages'][-1].content\n",
    "\n",
    "    print(\"User :\", huamn_message)\n",
    "    print(\"AI :\", ai_message)\n",
    "    print(\"--\"*20)\n",
    "\n",
    "    return ai_message"
   ]
  },
  {
   "cell_type": "code",
   "execution_count": null,
   "id": "6c4e1343",
   "metadata": {},
   "outputs": [
    {
     "name": "stdout",
     "output_type": "stream",
     "text": [
      "* Running on local URL:  http://127.0.0.1:7860\n",
      "* To create a public link, set `share=True` in `launch()`.\n"
     ]
    },
    {
     "data": {
      "text/html": [
       "<div><iframe src=\"http://127.0.0.1:7860/\" width=\"100%\" height=\"500\" allow=\"autoplay; camera; microphone; clipboard-read; clipboard-write;\" frameborder=\"0\" allowfullscreen></iframe></div>"
      ],
      "text/plain": [
       "<IPython.core.display.HTML object>"
      ]
     },
     "metadata": {},
     "output_type": "display_data"
    },
    {
     "data": {
      "text/plain": []
     },
     "execution_count": 36,
     "metadata": {},
     "output_type": "execute_result"
    },
    {
     "name": "stdout",
     "output_type": "stream",
     "text": [
      "User : Hi\n",
      "AI : Hello! How can I assist you today?\n",
      "----------------------------------------\n",
      "User : 2+2?\n",
      "AI : 2 + 2 equals 4.\n",
      "----------------------------------------\n",
      "User : Who are you?\n",
      "AI : I am an AI language model created by OpenAI, designed to assist you with questions, provide information, and engage in conversations. How can I help you today?\n",
      "----------------------------------------\n",
      "User : Create agent using lagnchain\n",
      "AI : Certainly! To create an agent using LangChain, you'll typically want to set up an agent that can perform tasks based on different tools or functions. Here's a basic example of how to create a simple agent with LangChain in Python.\n",
      "\n",
      "First, ensure you have installed the necessary libraries:\n",
      "\n",
      "```bash\n",
      "pip install langchain openai\n",
      "```\n",
      "\n",
      "Here's a step-by-step example:\n",
      "\n",
      "```python\n",
      "from langchain.agents import initialize_agent, Tool\n",
      "from langchain.agents import AgentType\n",
      "from langchain.llms import OpenAI\n",
      "\n",
      "# Initialize your language model\n",
      "llm = OpenAI(api_key='YOUR_OPENAI_API_KEY', model=\"text-davinci-003\")  # or another model\n",
      "\n",
      "# Define a simple tool, for example, a question-answering tool\n",
      "def reverse_text(text: str) -> str:\n",
      "    return text[::-1]\n",
      "\n",
      "reverse_tool = Tool(\n",
      "    name=\"Reverse Text\",\n",
      "    func=reverse_text,\n",
      "    description=\"Reverses a given text.\"\n",
      ")\n",
      "\n",
      "# Initialize the agent with tools\n",
      "tools = [reverse_tool]\n",
      "\n",
      "agent = initialize_agent(\n",
      "    tools=tools,\n",
      "    llm=llm,\n",
      "    agent_type=AgentType.ZERO_SHOT_REACT_DESCRIPTION  # or other agent types\n",
      ")\n",
      "\n",
      "# Use the agent\n",
      "response = agent.run(\"Can you reverse the text: Hello, World?\")\n",
      "print(response)\n",
      "```\n",
      "\n",
      "**Summary:**\n",
      "- Install `langchain` and `openai`.\n",
      "- Set up your LLM (e.g., OpenAI).\n",
      "- Create tools (optional custom functions).\n",
      "- Initialize an agent with these tools.\n",
      "- Use the agent to process prompts.\n",
      "\n",
      "**Note:**\n",
      "Replace `'YOUR_OPENAI_API_KEY'` with your actual OpenAI API key. You can also customize the agent type and tools based on your needs.\n",
      "\n",
      "Let me know if you need a more specific example or further assistance!\n",
      "----------------------------------------\n",
      "User : create agent using crewai\n",
      "AI : Certainly! To create an agent using CrewAI, you'll typically follow these steps. CrewAI is a platform that facilitates building and deploying AI agents with minimal coding. Here's a general overview to get you started:\n",
      "\n",
      "**1. Sign Up / Log In**\n",
      "- Visit [CrewAI Website](https://crewai.com/) (or the relevant platform URL).\n",
      "- Create an account or log in if you already have one.\n",
      "\n",
      "**2. Create a New Agent**\n",
      "- Once logged in, look for a button like \"Create New Agent\" or similar.\n",
      "- Enter a name and description for your agent.\n",
      "\n",
      "**3. Configure the Agent's Capabilities**\n",
      "- Define what your agent should do:\n",
      "  - Choose the AI model you want to use (e.g., GPT-3.5, GPT-4).\n",
      "  - Set up the objectives or tasks for your agent.\n",
      "  - Provide initial prompts, context, or instructions if necessary.\n",
      "\n",
      "**4. Set Up the Workflow or Interaction**\n",
      "- Customize how the agent interacts:\n",
      "  - Define input and output formats.\n",
      "  - Add any tools or integrations if CrewAI supports them.\n",
      "  - Save the configuration.\n",
      "\n",
      "**5. Test Your Agent**\n",
      "- Use the testing interface to interact with your agent.\n",
      "- Tweak settings as needed for better performance.\n",
      "\n",
      "**6. Deploy and Use Your Agent**\n",
      "- Once satisfied, deploy your agent for use within your applications or for user interaction.\n",
      "- CrewAI may provide APIs or embed options for integrating into websites or apps.\n",
      "\n",
      "---\n",
      "\n",
      "### Example: Creating a Basic Chatbot with CrewAI\n",
      "Here's a simplified example if CrewAI offers a no-code UI:\n",
      "\n",
      "1. Log in to CrewAI.\n",
      "2. Click \"Create Agent.\"\n",
      "3. Name it \"My Chatbot.\"\n",
      "4. Select GPT-4 as the language model.\n",
      "5. Input a prompt like \"You are a helpful assistant.\"\n",
      "6. Save the configuration.\n",
      "7. Test by asking, \"What is the weather today?\"\n",
      "8. Deploy and embed the chatbot on your website.\n",
      "\n",
      "---\n",
      "\n",
      "### Note:\n",
      "Since platform features and interfaces can change, I recommend consulting CrewAI's official documentation or tutorials for the most accurate and detailed instructions.\n",
      "\n",
      "**Would you like a more specific example or help with code integration?**\n",
      "----------------------------------------\n",
      "User : what is the current weather\n",
      "AI : I don't have real-time access to current weather updates. To find the latest weather information, please check a reliable weather website or app such as Weather.com, AccuWeather, or your local weather service.\n",
      "----------------------------------------\n"
     ]
    }
   ],
   "source": [
    "gr.ChatInterface(chatbot_app, type='messages').launch()"
   ]
  },
  {
   "cell_type": "code",
   "execution_count": null,
   "id": "7bb4635d",
   "metadata": {},
   "outputs": [],
   "source": []
  }
 ],
 "metadata": {
  "kernelspec": {
   "display_name": "venv",
   "language": "python",
   "name": "python3"
  },
  "language_info": {
   "codemirror_mode": {
    "name": "ipython",
    "version": 3
   },
   "file_extension": ".py",
   "mimetype": "text/x-python",
   "name": "python",
   "nbconvert_exporter": "python",
   "pygments_lexer": "ipython3",
   "version": "3.12.0"
  }
 },
 "nbformat": 4,
 "nbformat_minor": 5
}
