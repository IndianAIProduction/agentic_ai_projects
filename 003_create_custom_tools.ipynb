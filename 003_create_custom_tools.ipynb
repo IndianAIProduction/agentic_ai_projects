{
 "cells": [
  {
   "cell_type": "markdown",
   "id": "866d9781",
   "metadata": {},
   "source": [
    "<table border=\"1\" cellpadding=\"8\" cellspacing=\"0\" style=\"border-collapse: collapse; background: #fffbe6; color: #222; font-family: Arial, sans-serif;\">\n",
    "  <thead style=\"background: #ffe066;\">\n",
    "    <tr>\n",
    "      <th>Import</th>\n",
    "      <th>Style</th>\n",
    "      <th>Recommended for</th>\n",
    "      <th>Syntax</th>\n",
    "    </tr>\n",
    "  </thead>\n",
    "  <tbody>\n",
    "    <tr>\n",
    "      <td><code>from langchain.agents import Tool</code></td>\n",
    "      <td>Class-based</td>\n",
    "      <td>Legacy/old agents</td>\n",
    "      <td><code>Tool(name, func, desc)</code></td>\n",
    "    </tr>\n",
    "    <tr>\n",
    "      <td><code>from langchain_core.tools import tool</code></td>\n",
    "      <td>Decorator</td>\n",
    "      <td>Modern/new projects</td>\n",
    "      <td><code>@tool</code> above a function</td>\n",
    "    </tr>\n",
    "  </tbody>\n",
    "</table>\n"
   ]
  },
  {
   "cell_type": "code",
   "execution_count": 7,
   "id": "fd663cd0",
   "metadata": {},
   "outputs": [
    {
     "data": {
      "text/plain": [
       "True"
      ]
     },
     "execution_count": 7,
     "metadata": {},
     "output_type": "execute_result"
    }
   ],
   "source": [
    "from typing import Annotated, TypedDict\n",
    "from langgraph.graph import StateGraph, START, END\n",
    "from langgraph.graph.message import add_messages\n",
    "from langchain.chat_models import init_chat_model\n",
    "import gradio as gr\n",
    "\n",
    "from langgraph.prebuilt import ToolNode, tools_condition\n",
    "from langchain_tavily import TavilySearch\n",
    "\n",
    "from datetime import datetime\n",
    "\n",
    "from langchain_core.tools import tool\n",
    "\n",
    "from dotenv import load_dotenv\n",
    "load_dotenv(override=True)"
   ]
  },
  {
   "cell_type": "code",
   "execution_count": 3,
   "id": "9ddf14e9",
   "metadata": {},
   "outputs": [],
   "source": [
    "\n",
    "\n",
    "search_tool = TavilySearch(\n",
    "    max_results=4,\n",
    "    # topic=\"general\",\n",
    "    # include_answer=False,\n",
    "    # include_raw_content=False,\n",
    "    # include_images=False,\n",
    "    # include_image_descriptions=False,\n",
    "    # search_depth=\"basic\",\n",
    "    # time_range=\"day\",\n",
    "    # include_domains=None,\n",
    "    # exclude_domains=None\n",
    ")"
   ]
  },
  {
   "cell_type": "code",
   "execution_count": 6,
   "id": "eed0298d",
   "metadata": {},
   "outputs": [
    {
     "data": {
      "text/plain": [
       "'2025-08-09T00:10:52.269075'"
      ]
     },
     "execution_count": 6,
     "metadata": {},
     "output_type": "execute_result"
    }
   ],
   "source": [
    "datetime.now().isoformat()"
   ]
  },
  {
   "cell_type": "code",
   "execution_count": 9,
   "id": "e8fc92f7",
   "metadata": {},
   "outputs": [],
   "source": [
    "@tool\n",
    "def get_current_date_time()->str:\n",
    "    \"\"\"This function give current date and time in iso format\"\"\"\n",
    "    return datetime.now().isoformat()"
   ]
  },
  {
   "cell_type": "markdown",
   "id": "9779d3bc",
   "metadata": {},
   "source": [
    "BaseTool.invoke(input) requires some input (even if it’s not used), because under the hood, it’s expecting a </br>dictionary of arguments, matching the tool’s input schema.</br>\n",
    "\n",
    "For a no-argument tool, the input schema is just {}."
   ]
  },
  {
   "cell_type": "code",
   "execution_count": 11,
   "id": "37eed355",
   "metadata": {},
   "outputs": [
    {
     "data": {
      "text/plain": [
       "'2025-08-09T00:15:10.002563'"
      ]
     },
     "execution_count": 11,
     "metadata": {},
     "output_type": "execute_result"
    }
   ],
   "source": [
    "get_current_date_time.invoke({})"
   ]
  },
  {
   "cell_type": "code",
   "execution_count": 14,
   "id": "b2a05b39",
   "metadata": {},
   "outputs": [],
   "source": [
    "@tool\n",
    "def my_biography()->str:\n",
    "    \"\"\"My biography, everything about me, family, career, personal details, contact, hobbies and more...\"\"\"\n",
    "    file_path = r\"A:\\Indian_AI_Production_5\\agentic_ai\\agentic_ai_projects\\data\\my_biography.txt\"\n",
    "    with open(file_path, \"r\", encoding='utf-8') as file:\n",
    "        biography = file.read()\n",
    "    return biography"
   ]
  },
  {
   "cell_type": "code",
   "execution_count": 15,
   "id": "e10eb5ce",
   "metadata": {},
   "outputs": [
    {
     "data": {
      "text/plain": [
       "'Name:\\nRhea Sharma\\n\\nBio:\\nRhea Sharma is a dynamic Indian entrepreneur and visionary in the field of artificial intelligence. As the founder and CEO of Indian AI Production, he has played a pivotal role in driving the adoption of agentic AI solutions for businesses across India and Southeast Asia. Rhea is widely respected for his ability to turn complex AI technologies into practical, profitable, and ethical business solutions.\\n\\nPersonal Details:\\nAge: 38\\nDate of Birth: 14th August 1986\\nHeight: 5’10” (178 cm)\\nEye Color: Brown\\nHair: Black, short\\nNationality: Indian\\nLanguages: English, Hindi\\nMarital Status: Married\\nSpouse: Priya Sharma\\nChildren: Aarav (son, age 8), Riya (daughter, age 5)\\nCurrent Residence: New Delhi, India\\n\\nFamily Background:\\nRhea comes from an academically inclined family in North India. His father, Dr. Prakash Sharma, is a retired university professor, while his mother, Anita Sharma, is a librarian. His younger sister, Sneha, is a software engineer currently working in Singapore. Rhea credits his parents for instilling in him a strong work ethic and a love for learning, and he maintains close ties with his family.\\n\\nEducation:\\n\\nMBA in Business Analytics, Indian Institute of Management (IIM) Bangalore\\n\\nB.Tech in Computer Science, Delhi Technological University (DTU)\\n\\nCertificate in Executive Leadership, Harvard Business School (Online)\\n\\nProfessional Experience:\\n\\nFounder & CEO, Indian AI Production, New Delhi (2016–Present)\\n\\nHead of AI Product Strategy, NexGen Digital (2012–2016)\\n\\nSenior AI Consultant, VisionWare Tech (2008–2012)\\n\\nKey Achievements:\\n\\nDesigned an AI-driven automation platform that improved process efficiency by 45% for large enterprises.\\n\\nLed the deployment of over 50 custom AI solutions for finance, healthcare, logistics, education, and retail sectors.\\n\\nFiled three patents related to agentic AI workflows and business automation.\\n\\nSuccessfully raised $8 million in venture funding for Indian AI Production’s R&D expansion in 2022.\\n\\nRecognized by Forbes India as a top emerging AI business leader in 2024.\\n\\nDelivered keynote speeches at India AI Expo, Future Tech Summit, Global Digital Leaders Forum, and Asia Business Automation Conference.\\n\\nPublished thought leadership articles in Economic Times, YourStory, and DataQuest.\\n\\nTechnical Expertise:\\n\\nAgentic AI architectures (LangGraph, LangChain, CrewAI)\\n\\nAI/ML model deployment (AWS, GCP, Azure)\\n\\nAPI integrations and workflow automation\\n\\nData engineering (Python, SQL, Spark)\\n\\nProduct management and business strategy\\n\\nTeam building and leadership\\n\\nBoard Memberships & Social Initiatives:\\n\\nBoard Member, India Artificial Intelligence Society\\n\\nMentor, Startup India AI Incubator\\n\\nFounder, “AI for Schools” initiative, providing free AI workshops for students in under-resourced areas\\n\\nAdvisory Panelist, Digital Transformation India Initiative\\n\\nVolunteer, Literacy India – supporting digital learning for rural youth\\n\\nAwards & Recognitions:\\n\\nForbes India: “Top 20 AI Leaders to Watch” (2024)\\n\\nNasscom AI Trailblazer Award (2023)\\n\\nDataQuest “Innovation in Automation” Award (2022)\\n\\nEconomic Times “Young Disruptor” (2020)\\n\\nNotable Clients & Projects:\\n\\nLed Indian AI Production’s partnership with a leading pan-India logistics firm to automate shipment tracking, resulting in 30% reduction in operational errors\\n\\nDeployed a multi-agent customer support bot system for a national banking network, enhancing customer satisfaction by 25%\\n\\nDeveloped AI-powered inventory optimization platform for a major retail chain, saving an estimated $2M in annual costs\\n\\nPublications & Media Features:\\n\\n“Agentic AI for the Real World: India’s Path Forward,” Economic Times, 2024\\n\\n“Building Trustworthy AI Agents,” YourStory, 2023\\n\\nFeatured in CNBC-TV18 special segment: “Digital India: Pioneers in AI Automation”\\n\\nGuest columnist for DataQuest and AI Digest\\n\\nVision for the Future:\\nRhea’s vision is to make India a global hub for ethical and scalable AI automation. He is dedicated to creating opportunities for young talent and believes that accessible AI education can transform India’s economy and society.\\n\\nHobbies & Interests:\\n\\nPlaying tennis and chess\\n\\nTraveling across India and Southeast Asia\\n\\nAmateur photography (cityscapes, nature)\\n\\nCollecting rare books on science and innovation\\n\\nCooking regional Indian dishes with family\\n\\nPersonality Traits:\\n\\nAnalytical and curious\\n\\nCollaborative leader\\n\\nEmpathetic mentor\\n\\nResilient in facing challenges\\n\\nPassionate about lifelong learning\\n\\nContact:\\nEmail: rhea.sharma@indianaiproduction.com (fictional)\\nLinkedIn: linkedin.com/in/rhea-sharma-ai (fictional)\\n\\nFun Fact:\\nRhea is left-handed and once built his first AI project in college to help his visually impaired friend read textbooks aloud.\\n\\nFavorite Quote:\\n“Great innovation comes not from machines, but from the minds that dare to dream beyond them.”'"
      ]
     },
     "execution_count": 15,
     "metadata": {},
     "output_type": "execute_result"
    }
   ],
   "source": [
    "my_biography.invoke({})"
   ]
  },
  {
   "cell_type": "code",
   "execution_count": 16,
   "id": "676fa763",
   "metadata": {},
   "outputs": [],
   "source": [
    "tools = [search_tool, get_current_date_time, my_biography]"
   ]
  },
  {
   "cell_type": "code",
   "execution_count": 17,
   "id": "b156c349",
   "metadata": {},
   "outputs": [],
   "source": [
    "class State(TypedDict):\n",
    "    messages: Annotated[list, add_messages]\n",
    "\n",
    "graph_builder = StateGraph(State)"
   ]
  },
  {
   "cell_type": "code",
   "execution_count": null,
   "id": "753788d2",
   "metadata": {},
   "outputs": [],
   "source": [
    "    gpt_models_name = 'gpt-4.1-nano-2025-04-14'\n",
    "    llm = init_chat_model(gpt_models_name)"
   ]
  },
  {
   "cell_type": "code",
   "execution_count": 19,
   "id": "badc4deb",
   "metadata": {},
   "outputs": [],
   "source": [
    "def chatbot(state: State)->State:\n",
    "    response = llm.bind_tools(tools).invoke(state['messages'])\n",
    "    return State(messages=response)"
   ]
  },
  {
   "cell_type": "code",
   "execution_count": 20,
   "id": "bed368ad",
   "metadata": {},
   "outputs": [],
   "source": [
    "tool_node = ToolNode(tools=tools)"
   ]
  },
  {
   "cell_type": "code",
   "execution_count": 21,
   "id": "eab41a51",
   "metadata": {},
   "outputs": [
    {
     "data": {
      "text/plain": [
       "<langgraph.graph.state.StateGraph at 0x20ee2bcab70>"
      ]
     },
     "execution_count": 21,
     "metadata": {},
     "output_type": "execute_result"
    }
   ],
   "source": [
    "graph_builder.add_node('chatbot', chatbot)\n",
    "graph_builder.add_node('tools', tool_node)"
   ]
  },
  {
   "cell_type": "code",
   "execution_count": 22,
   "id": "803bbf46",
   "metadata": {},
   "outputs": [
    {
     "data": {
      "text/plain": [
       "<langgraph.graph.state.StateGraph at 0x20ee2bcab70>"
      ]
     },
     "execution_count": 22,
     "metadata": {},
     "output_type": "execute_result"
    }
   ],
   "source": [
    "graph_builder.add_edge(START, 'chatbot')\n",
    "graph_builder.add_conditional_edges('chatbot', tools_condition)\n",
    "graph_builder.add_edge('tools', 'chatbot')"
   ]
  },
  {
   "cell_type": "code",
   "execution_count": 23,
   "id": "6150eaa2",
   "metadata": {},
   "outputs": [
    {
     "data": {
      "image/png": "[encoded data removed]",
      "text/plain": [
       "<langgraph.graph.state.CompiledStateGraph object at 0x0000020EE2C3D370>"
      ]
     },
     "execution_count": 23,
     "metadata": {},
     "output_type": "execute_result"
    }
   ],
   "source": [
    "graph = graph_builder.compile()\n",
    "graph"
   ]
  },
  {
   "cell_type": "code",
   "execution_count": 24,
   "id": "7ac5c93e",
   "metadata": {},
   "outputs": [
    {
     "data": {
      "text/plain": [
       "{'messages': [HumanMessage(content='Who am I?', additional_kwargs={}, response_metadata={}, id='73ed30f4-a865-499f-bb0b-4aadc1853ecb'),\n",
       "  AIMessage(content=\"I don't have any information about you. Could you tell me more about yourself or clarify what you'd like to know?\", additional_kwargs={'refusal': None}, response_metadata={'token_usage': {'completion_tokens': 24, 'prompt_tokens': 1323, 'total_tokens': 1347, 'completion_tokens_details': {'accepted_prediction_tokens': 0, 'audio_tokens': 0, 'reasoning_tokens': 0, 'rejected_prediction_tokens': 0}, 'prompt_tokens_details': {'audio_tokens': 0, 'cached_tokens': 0}}, 'model_name': 'gpt-4.1-nano-2025-04-14', 'system_fingerprint': 'fp_38343a2f8f', 'id': 'chatcmpl-C2MaAkGY5snrOvvZTarsykKS9BcSw', 'service_tier': 'default', 'finish_reason': 'stop', 'logprobs': None}, id='run--5e8b2057-59d7-4302-8589-df476d0bf083-0', usage_metadata={'input_tokens': 1323, 'output_tokens': 24, 'total_tokens': 1347, 'input_token_details': {'audio': 0, 'cache_read': 0}, 'output_token_details': {'audio': 0, 'reasoning': 0}})]}"
      ]
     },
     "execution_count": 24,
     "metadata": {},
     "output_type": "execute_result"
    }
   ],
   "source": [
    "graph_response = graph.invoke({'messages':[\"Who am I?\"]})\n",
    "graph_response"
   ]
  },
  {
   "cell_type": "code",
   "execution_count": 25,
   "id": "542e9635",
   "metadata": {},
   "outputs": [
    {
     "data": {
      "text/plain": [
       "{'messages': [HumanMessage(content='what is my name?', additional_kwargs={}, response_metadata={}, id='f12d1537-bbf6-46b4-9562-f0f21af2f882'),\n",
       "  AIMessage(content='', additional_kwargs={'tool_calls': [{'id': 'call_tAc2VSqvK6pEu8R5EoHOtc0P', 'function': {'arguments': '{}', 'name': 'my_biography'}, 'type': 'function'}], 'refusal': None}, response_metadata={'token_usage': {'completion_tokens': 12, 'prompt_tokens': 1324, 'total_tokens': 1336, 'completion_tokens_details': {'accepted_prediction_tokens': 0, 'audio_tokens': 0, 'reasoning_tokens': 0, 'rejected_prediction_tokens': 0}, 'prompt_tokens_details': {'audio_tokens': 0, 'cached_tokens': 1152}}, 'model_name': 'gpt-4.1-nano-2025-04-14', 'system_fingerprint': 'fp_38343a2f8f', 'id': 'chatcmpl-C2Madk1WfUptjY2SlOgfBNgxDfAIv', 'service_tier': 'default', 'finish_reason': 'tool_calls', 'logprobs': None}, id='run--1254cc69-e018-4641-b666-6fd12bb3d1fb-0', tool_calls=[{'name': 'my_biography', 'args': {}, 'id': 'call_tAc2VSqvK6pEu8R5EoHOtc0P', 'type': 'tool_call'}], usage_metadata={'input_tokens': 1324, 'output_tokens': 12, 'total_tokens': 1336, 'input_token_details': {'audio': 0, 'cache_read': 1152}, 'output_token_details': {'audio': 0, 'reasoning': 0}}),\n",
       "  ToolMessage(content='Name:\\nRhea Sharma\\n\\nBio:\\nRhea Sharma is a dynamic Indian entrepreneur and visionary in the field of artificial intelligence. As the founder and CEO of Indian AI Production, he has played a pivotal role in driving the adoption of agentic AI solutions for businesses across India and Southeast Asia. Rhea is widely respected for his ability to turn complex AI technologies into practical, profitable, and ethical business solutions.\\n\\nPersonal Details:\\nAge: 38\\nDate of Birth: 14th August 1986\\nHeight: 5’10” (178 cm)\\nEye Color: Brown\\nHair: Black, short\\nNationality: Indian\\nLanguages: English, Hindi\\nMarital Status: Married\\nSpouse: Priya Sharma\\nChildren: Aarav (son, age 8), Riya (daughter, age 5)\\nCurrent Residence: New Delhi, India\\n\\nFamily Background:\\nRhea comes from an academically inclined family in North India. His father, Dr. Prakash Sharma, is a retired university professor, while his mother, Anita Sharma, is a librarian. His younger sister, Sneha, is a software engineer currently working in Singapore. Rhea credits his parents for instilling in him a strong work ethic and a love for learning, and he maintains close ties with his family.\\n\\nEducation:\\n\\nMBA in Business Analytics, Indian Institute of Management (IIM) Bangalore\\n\\nB.Tech in Computer Science, Delhi Technological University (DTU)\\n\\nCertificate in Executive Leadership, Harvard Business School (Online)\\n\\nProfessional Experience:\\n\\nFounder & CEO, Indian AI Production, New Delhi (2016–Present)\\n\\nHead of AI Product Strategy, NexGen Digital (2012–2016)\\n\\nSenior AI Consultant, VisionWare Tech (2008–2012)\\n\\nKey Achievements:\\n\\nDesigned an AI-driven automation platform that improved process efficiency by 45% for large enterprises.\\n\\nLed the deployment of over 50 custom AI solutions for finance, healthcare, logistics, education, and retail sectors.\\n\\nFiled three patents related to agentic AI workflows and business automation.\\n\\nSuccessfully raised $8 million in venture funding for Indian AI Production’s R&D expansion in 2022.\\n\\nRecognized by Forbes India as a top emerging AI business leader in 2024.\\n\\nDelivered keynote speeches at India AI Expo, Future Tech Summit, Global Digital Leaders Forum, and Asia Business Automation Conference.\\n\\nPublished thought leadership articles in Economic Times, YourStory, and DataQuest.\\n\\nTechnical Expertise:\\n\\nAgentic AI architectures (LangGraph, LangChain, CrewAI)\\n\\nAI/ML model deployment (AWS, GCP, Azure)\\n\\nAPI integrations and workflow automation\\n\\nData engineering (Python, SQL, Spark)\\n\\nProduct management and business strategy\\n\\nTeam building and leadership\\n\\nBoard Memberships & Social Initiatives:\\n\\nBoard Member, India Artificial Intelligence Society\\n\\nMentor, Startup India AI Incubator\\n\\nFounder, “AI for Schools” initiative, providing free AI workshops for students in under-resourced areas\\n\\nAdvisory Panelist, Digital Transformation India Initiative\\n\\nVolunteer, Literacy India – supporting digital learning for rural youth\\n\\nAwards & Recognitions:\\n\\nForbes India: “Top 20 AI Leaders to Watch” (2024)\\n\\nNasscom AI Trailblazer Award (2023)\\n\\nDataQuest “Innovation in Automation” Award (2022)\\n\\nEconomic Times “Young Disruptor” (2020)\\n\\nNotable Clients & Projects:\\n\\nLed Indian AI Production’s partnership with a leading pan-India logistics firm to automate shipment tracking, resulting in 30% reduction in operational errors\\n\\nDeployed a multi-agent customer support bot system for a national banking network, enhancing customer satisfaction by 25%\\n\\nDeveloped AI-powered inventory optimization platform for a major retail chain, saving an estimated $2M in annual costs\\n\\nPublications & Media Features:\\n\\n“Agentic AI for the Real World: India’s Path Forward,” Economic Times, 2024\\n\\n“Building Trustworthy AI Agents,” YourStory, 2023\\n\\nFeatured in CNBC-TV18 special segment: “Digital India: Pioneers in AI Automation”\\n\\nGuest columnist for DataQuest and AI Digest\\n\\nVision for the Future:\\nRhea’s vision is to make India a global hub for ethical and scalable AI automation. He is dedicated to creating opportunities for young talent and believes that accessible AI education can transform India’s economy and society.\\n\\nHobbies & Interests:\\n\\nPlaying tennis and chess\\n\\nTraveling across India and Southeast Asia\\n\\nAmateur photography (cityscapes, nature)\\n\\nCollecting rare books on science and innovation\\n\\nCooking regional Indian dishes with family\\n\\nPersonality Traits:\\n\\nAnalytical and curious\\n\\nCollaborative leader\\n\\nEmpathetic mentor\\n\\nResilient in facing challenges\\n\\nPassionate about lifelong learning\\n\\nContact:\\nEmail: rhea.sharma@indianaiproduction.com (fictional)\\nLinkedIn: linkedin.com/in/rhea-sharma-ai (fictional)\\n\\nFun Fact:\\nRhea is left-handed and once built his first AI project in college to help his visually impaired friend read textbooks aloud.\\n\\nFavorite Quote:\\n“Great innovation comes not from machines, but from the minds that dare to dream beyond them.”', name='my_biography', id='a367d480-f8cf-4d2b-b06e-ba4c1d89c237', tool_call_id='call_tAc2VSqvK6pEu8R5EoHOtc0P'),\n",
       "  AIMessage(content='Your name is Rhea Sharma.', additional_kwargs={'refusal': None}, response_metadata={'token_usage': {'completion_tokens': 8, 'prompt_tokens': 2366, 'total_tokens': 2374, 'completion_tokens_details': {'accepted_prediction_tokens': 0, 'audio_tokens': 0, 'reasoning_tokens': 0, 'rejected_prediction_tokens': 0}, 'prompt_tokens_details': {'audio_tokens': 0, 'cached_tokens': 1280}}, 'model_name': 'gpt-4.1-nano-2025-04-14', 'system_fingerprint': 'fp_38343a2f8f', 'id': 'chatcmpl-C2Maf0JiVkR4UjVpGjOzNRmIrnPKs', 'service_tier': 'default', 'finish_reason': 'stop', 'logprobs': None}, id='run--663c8976-ab5f-4025-a64b-a57c19c3c6a2-0', usage_metadata={'input_tokens': 2366, 'output_tokens': 8, 'total_tokens': 2374, 'input_token_details': {'audio': 0, 'cache_read': 1280}, 'output_token_details': {'audio': 0, 'reasoning': 0}})]}"
      ]
     },
     "execution_count": 25,
     "metadata": {},
     "output_type": "execute_result"
    }
   ],
   "source": [
    "graph_response = graph.invoke({'messages':[\"what is my name?\"]})\n",
    "graph_response"
   ]
  },
  {
   "cell_type": "code",
   "execution_count": 26,
   "id": "7ac81fa6",
   "metadata": {},
   "outputs": [
    {
     "data": {
      "text/plain": [
       "{'messages': [HumanMessage(content='what is my mother name?', additional_kwargs={}, response_metadata={}, id='99c4636a-e259-49a7-bb7c-f8c621ff2b16'),\n",
       "  AIMessage(content='', additional_kwargs={'tool_calls': [{'id': 'call_aoXYuqoXSDf3wNkChmqi8csM', 'function': {'arguments': '{}', 'name': 'my_biography'}, 'type': 'function'}], 'refusal': None}, response_metadata={'token_usage': {'completion_tokens': 12, 'prompt_tokens': 1325, 'total_tokens': 1337, 'completion_tokens_details': {'accepted_prediction_tokens': 0, 'audio_tokens': 0, 'reasoning_tokens': 0, 'rejected_prediction_tokens': 0}, 'prompt_tokens_details': {'audio_tokens': 0, 'cached_tokens': 1152}}, 'model_name': 'gpt-4.1-nano-2025-04-14', 'system_fingerprint': 'fp_38343a2f8f', 'id': 'chatcmpl-C2MbRwDPn0ylWjVtKnmpPdcUGTOav', 'service_tier': 'default', 'finish_reason': 'tool_calls', 'logprobs': None}, id='run--b119a1b0-4918-45a6-aa46-6a330c2423ba-0', tool_calls=[{'name': 'my_biography', 'args': {}, 'id': 'call_aoXYuqoXSDf3wNkChmqi8csM', 'type': 'tool_call'}], usage_metadata={'input_tokens': 1325, 'output_tokens': 12, 'total_tokens': 1337, 'input_token_details': {'audio': 0, 'cache_read': 1152}, 'output_token_details': {'audio': 0, 'reasoning': 0}}),\n",
       "  ToolMessage(content='Name:\\nRhea Sharma\\n\\nBio:\\nRhea Sharma is a dynamic Indian entrepreneur and visionary in the field of artificial intelligence. As the founder and CEO of Indian AI Production, he has played a pivotal role in driving the adoption of agentic AI solutions for businesses across India and Southeast Asia. Rhea is widely respected for his ability to turn complex AI technologies into practical, profitable, and ethical business solutions.\\n\\nPersonal Details:\\nAge: 38\\nDate of Birth: 14th August 1986\\nHeight: 5’10” (178 cm)\\nEye Color: Brown\\nHair: Black, short\\nNationality: Indian\\nLanguages: English, Hindi\\nMarital Status: Married\\nSpouse: Priya Sharma\\nChildren: Aarav (son, age 8), Riya (daughter, age 5)\\nCurrent Residence: New Delhi, India\\n\\nFamily Background:\\nRhea comes from an academically inclined family in North India. His father, Dr. Prakash Sharma, is a retired university professor, while his mother, Anita Sharma, is a librarian. His younger sister, Sneha, is a software engineer currently working in Singapore. Rhea credits his parents for instilling in him a strong work ethic and a love for learning, and he maintains close ties with his family.\\n\\nEducation:\\n\\nMBA in Business Analytics, Indian Institute of Management (IIM) Bangalore\\n\\nB.Tech in Computer Science, Delhi Technological University (DTU)\\n\\nCertificate in Executive Leadership, Harvard Business School (Online)\\n\\nProfessional Experience:\\n\\nFounder & CEO, Indian AI Production, New Delhi (2016–Present)\\n\\nHead of AI Product Strategy, NexGen Digital (2012–2016)\\n\\nSenior AI Consultant, VisionWare Tech (2008–2012)\\n\\nKey Achievements:\\n\\nDesigned an AI-driven automation platform that improved process efficiency by 45% for large enterprises.\\n\\nLed the deployment of over 50 custom AI solutions for finance, healthcare, logistics, education, and retail sectors.\\n\\nFiled three patents related to agentic AI workflows and business automation.\\n\\nSuccessfully raised $8 million in venture funding for Indian AI Production’s R&D expansion in 2022.\\n\\nRecognized by Forbes India as a top emerging AI business leader in 2024.\\n\\nDelivered keynote speeches at India AI Expo, Future Tech Summit, Global Digital Leaders Forum, and Asia Business Automation Conference.\\n\\nPublished thought leadership articles in Economic Times, YourStory, and DataQuest.\\n\\nTechnical Expertise:\\n\\nAgentic AI architectures (LangGraph, LangChain, CrewAI)\\n\\nAI/ML model deployment (AWS, GCP, Azure)\\n\\nAPI integrations and workflow automation\\n\\nData engineering (Python, SQL, Spark)\\n\\nProduct management and business strategy\\n\\nTeam building and leadership\\n\\nBoard Memberships & Social Initiatives:\\n\\nBoard Member, India Artificial Intelligence Society\\n\\nMentor, Startup India AI Incubator\\n\\nFounder, “AI for Schools” initiative, providing free AI workshops for students in under-resourced areas\\n\\nAdvisory Panelist, Digital Transformation India Initiative\\n\\nVolunteer, Literacy India – supporting digital learning for rural youth\\n\\nAwards & Recognitions:\\n\\nForbes India: “Top 20 AI Leaders to Watch” (2024)\\n\\nNasscom AI Trailblazer Award (2023)\\n\\nDataQuest “Innovation in Automation” Award (2022)\\n\\nEconomic Times “Young Disruptor” (2020)\\n\\nNotable Clients & Projects:\\n\\nLed Indian AI Production’s partnership with a leading pan-India logistics firm to automate shipment tracking, resulting in 30% reduction in operational errors\\n\\nDeployed a multi-agent customer support bot system for a national banking network, enhancing customer satisfaction by 25%\\n\\nDeveloped AI-powered inventory optimization platform for a major retail chain, saving an estimated $2M in annual costs\\n\\nPublications & Media Features:\\n\\n“Agentic AI for the Real World: India’s Path Forward,” Economic Times, 2024\\n\\n“Building Trustworthy AI Agents,” YourStory, 2023\\n\\nFeatured in CNBC-TV18 special segment: “Digital India: Pioneers in AI Automation”\\n\\nGuest columnist for DataQuest and AI Digest\\n\\nVision for the Future:\\nRhea’s vision is to make India a global hub for ethical and scalable AI automation. He is dedicated to creating opportunities for young talent and believes that accessible AI education can transform India’s economy and society.\\n\\nHobbies & Interests:\\n\\nPlaying tennis and chess\\n\\nTraveling across India and Southeast Asia\\n\\nAmateur photography (cityscapes, nature)\\n\\nCollecting rare books on science and innovation\\n\\nCooking regional Indian dishes with family\\n\\nPersonality Traits:\\n\\nAnalytical and curious\\n\\nCollaborative leader\\n\\nEmpathetic mentor\\n\\nResilient in facing challenges\\n\\nPassionate about lifelong learning\\n\\nContact:\\nEmail: rhea.sharma@indianaiproduction.com (fictional)\\nLinkedIn: linkedin.com/in/rhea-sharma-ai (fictional)\\n\\nFun Fact:\\nRhea is left-handed and once built his first AI project in college to help his visually impaired friend read textbooks aloud.\\n\\nFavorite Quote:\\n“Great innovation comes not from machines, but from the minds that dare to dream beyond them.”', name='my_biography', id='1cd72799-5d5a-4d88-9530-7f15acd73743', tool_call_id='call_aoXYuqoXSDf3wNkChmqi8csM'),\n",
       "  AIMessage(content=\"Your mother's name is Anita Sharma.\", additional_kwargs={'refusal': None}, response_metadata={'token_usage': {'completion_tokens': 8, 'prompt_tokens': 2367, 'total_tokens': 2375, 'completion_tokens_details': {'accepted_prediction_tokens': 0, 'audio_tokens': 0, 'reasoning_tokens': 0, 'rejected_prediction_tokens': 0}, 'prompt_tokens_details': {'audio_tokens': 0, 'cached_tokens': 1280}}, 'model_name': 'gpt-4.1-nano-2025-04-14', 'system_fingerprint': 'fp_38343a2f8f', 'id': 'chatcmpl-C2MbSyPi2h5vH96Ffd6FNJK80C8mQ', 'service_tier': 'default', 'finish_reason': 'stop', 'logprobs': None}, id='run--ff88c255-04ec-40e2-b2fd-a93ebc8e98a3-0', usage_metadata={'input_tokens': 2367, 'output_tokens': 8, 'total_tokens': 2375, 'input_token_details': {'audio': 0, 'cache_read': 1280}, 'output_token_details': {'audio': 0, 'reasoning': 0}})]}"
      ]
     },
     "execution_count": 26,
     "metadata": {},
     "output_type": "execute_result"
    }
   ],
   "source": [
    "graph_response = graph.invoke({'messages':[\"what is my mother name?\"]})\n",
    "graph_response"
   ]
  },
  {
   "cell_type": "code",
   "execution_count": 27,
   "id": "00355e5f",
   "metadata": {},
   "outputs": [
    {
     "data": {
      "text/plain": [
       "{'messages': [HumanMessage(content='what is current date?', additional_kwargs={}, response_metadata={}, id='392c4cfc-bf34-4428-9ca1-6bcdf921d314'),\n",
       "  AIMessage(content='', additional_kwargs={'tool_calls': [{'id': 'call_jTGntjkBaQWJHiNqRlL1bNUJ', 'function': {'arguments': '{}', 'name': 'get_current_date_time'}, 'type': 'function'}], 'refusal': None}, response_metadata={'token_usage': {'completion_tokens': 12, 'prompt_tokens': 1324, 'total_tokens': 1336, 'completion_tokens_details': {'accepted_prediction_tokens': 0, 'audio_tokens': 0, 'reasoning_tokens': 0, 'rejected_prediction_tokens': 0}, 'prompt_tokens_details': {'audio_tokens': 0, 'cached_tokens': 1152}}, 'model_name': 'gpt-4.1-nano-2025-04-14', 'system_fingerprint': 'fp_38343a2f8f', 'id': 'chatcmpl-C2Mc0m8aS5xrdsZdEtUF8MIEXHYTl', 'service_tier': 'default', 'finish_reason': 'tool_calls', 'logprobs': None}, id='run--2ae2765c-6bd6-438c-abec-6e83499c62a4-0', tool_calls=[{'name': 'get_current_date_time', 'args': {}, 'id': 'call_jTGntjkBaQWJHiNqRlL1bNUJ', 'type': 'tool_call'}], usage_metadata={'input_tokens': 1324, 'output_tokens': 12, 'total_tokens': 1336, 'input_token_details': {'audio': 0, 'cache_read': 1152}, 'output_token_details': {'audio': 0, 'reasoning': 0}}),\n",
       "  ToolMessage(content='2025-08-09T00:30:09.227490', name='get_current_date_time', id='a085dd3b-aae0-4a1f-a7dc-1cc446e6e630', tool_call_id='call_jTGntjkBaQWJHiNqRlL1bNUJ'),\n",
       "  AIMessage(content='The current date is August 9, 2025.', additional_kwargs={'refusal': None}, response_metadata={'token_usage': {'completion_tokens': 13, 'prompt_tokens': 1361, 'total_tokens': 1374, 'completion_tokens_details': {'accepted_prediction_tokens': 0, 'audio_tokens': 0, 'reasoning_tokens': 0, 'rejected_prediction_tokens': 0}, 'prompt_tokens_details': {'audio_tokens': 0, 'cached_tokens': 1280}}, 'model_name': 'gpt-4.1-nano-2025-04-14', 'system_fingerprint': 'fp_38343a2f8f', 'id': 'chatcmpl-C2Mc1xqpXSCPshzUpoMaLnDNOgEaF', 'service_tier': 'default', 'finish_reason': 'stop', 'logprobs': None}, id='run--ca35e2cd-67c9-4f42-bd1a-8dd283e5d955-0', usage_metadata={'input_tokens': 1361, 'output_tokens': 13, 'total_tokens': 1374, 'input_token_details': {'audio': 0, 'cache_read': 1280}, 'output_token_details': {'audio': 0, 'reasoning': 0}})]}"
      ]
     },
     "execution_count": 27,
     "metadata": {},
     "output_type": "execute_result"
    }
   ],
   "source": [
    "graph_response = graph.invoke({'messages':[\"what is current date?\"]})\n",
    "graph_response"
   ]
  },
  {
   "cell_type": "code",
   "execution_count": 28,
   "id": "1d7899a1",
   "metadata": {},
   "outputs": [],
   "source": [
    "def chatbot_app(user_input: str, history)->str:\n",
    "    initial_state = State(messages=[{'role':'user', 'content':user_input}])\n",
    "    response = graph.invoke(initial_state)\n",
    "\n",
    "    huamn_message = response['messages'][0].content\n",
    "    ai_message = response['messages'][-1].content\n",
    "\n",
    "    print(\"User :\", huamn_message)\n",
    "    print(\"AI :\", ai_message)\n",
    "    print(\"--\"*20)\n",
    "\n",
    "    return ai_message"
   ]
  },
  {
   "cell_type": "code",
   "execution_count": 29,
   "id": "e5ee4d79",
   "metadata": {},
   "outputs": [
    {
     "name": "stdout",
     "output_type": "stream",
     "text": [
      "* Running on local URL:  http://127.0.0.1:7860\n",
      "* To create a public link, set `share=True` in `launch()`.\n"
     ]
    },
    {
     "data": {
      "text/html": [
       "<div><iframe src=\"http://127.0.0.1:7860/\" width=\"100%\" height=\"500\" allow=\"autoplay; camera; microphone; clipboard-read; clipboard-write;\" frameborder=\"0\" allowfullscreen></iframe></div>"
      ],
      "text/plain": [
       "<IPython.core.display.HTML object>"
      ]
     },
     "metadata": {},
     "output_type": "display_data"
    },
    {
     "data": {
      "text/plain": []
     },
     "execution_count": 29,
     "metadata": {},
     "output_type": "execute_result"
    },
    {
     "name": "stdout",
     "output_type": "stream",
     "text": [
      "User : what is todays date?\n",
      "AI : Today's date is August 9, 2025.\n",
      "----------------------------------------\n",
      "User : what is my son name?\n",
      "AI : Your son's name is Aarav.\n",
      "----------------------------------------\n",
      "User : what is my age and profession\n",
      "AI : Based on the biography, your age is 38 years old and your profession is an entrepreneur and the founder and CEO of Indian AI Production, specializing in artificial intelligence solutions.\n",
      "----------------------------------------\n",
      "User : what  is current weather of USA\n",
      "AI : The current weather information for the USA indicates that the weather is generally hot, with average temperatures ranging between 68°F and 82°F. There are also predictions of about 3 to 8 days of rain in various parts of the country. For specific details about the weather in a particular region or city, I recommend checking local weather services.\n",
      "----------------------------------------\n",
      "User : who are you?\n",
      "AI : I am an AI language model created by OpenAI, here to assist you with information, answer your questions, and help with a variety of tasks. How can I assist you today?\n",
      "----------------------------------------\n",
      "User : is Aarav son of Rhea Sharma\n",
      "AI : Based on the information available, Aarav is the son of Rhea Sharma.\n",
      "----------------------------------------\n",
      "User : Who am I?\n",
      "AI : I don't have enough information to determine who you are. Could you please tell me more about yourself or ask a specific question?\n",
      "----------------------------------------\n"
     ]
    }
   ],
   "source": [
    "gr.ChatInterface(chatbot_app, type='messages').launch()"
   ]
  },
  {
   "cell_type": "code",
   "execution_count": null,
   "id": "65e0ba39",
   "metadata": {},
   "outputs": [],
   "source": []
  }
 ],
 "metadata": {
  "kernelspec": {
   "display_name": "venv",
   "language": "python",
   "name": "python3"
  },
  "language_info": {
   "codemirror_mode": {
    "name": "ipython",
    "version": 3
   },
   "file_extension": ".py",
   "mimetype": "text/x-python",
   "name": "python",
   "nbconvert_exporter": "python",
   "pygments_lexer": "ipython3",
   "version": "3.12.0"
  }
 },
 "nbformat": 4,
 "nbformat_minor": 5
}
