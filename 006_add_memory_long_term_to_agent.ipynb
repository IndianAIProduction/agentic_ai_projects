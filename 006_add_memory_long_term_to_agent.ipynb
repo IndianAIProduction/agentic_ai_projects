{
 "cells": [
  {
   "cell_type": "markdown",
   "id": "f4f1a8e1",
   "metadata": {},
   "source": [
    "<!DOCTYPE html>\n",
    "<html lang=\"en\">\n",
    "<head>\n",
    "  <meta charset=\"utf-8\" />\n",
    "  <title>Agentic AI Memory — LTM vs Checkpoints (Quick)</title>\n",
    "  <meta name=\"viewport\" content=\"width=device-width, initial-scale=1\" />\n",
    "</head>\n",
    "<body style=\"font-family:system-ui,-apple-system,Segoe UI,Roboto,Inter,Arial; line-height:1.5; max-width:860px; margin:24px auto; padding:0 16px;\">\n",
    "\n",
    "  <h2 style=\"margin:18px 0 8px;\">2) Long-Term Memory (LTM)</h2>\n",
    "  <ul>\n",
    "    <li><strong>Purpose:</strong> Remember facts, preferences, and past interactions across sessions.</li>\n",
    "    <li><strong>Where stored:</strong> Durable stores (SQL/SQLite/Postgres) and often embeddings in a vector index.</li>\n",
    "    <li><strong>How used:</strong> Retrieved (keyword/semantic) and injected into the prompt before the LLM call.</li>\n",
    "    <li><strong>Example:</strong> “Your name is Raju and you prefer concise answers.”</li>\n",
    "  </ul>\n",
    "\n",
    "  <h2 style=\"margin:18px 0 8px;\">3) Execution Memory / Checkpoints</h2>\n",
    "  <ul>\n",
    "    <li><strong>Purpose:</strong> Persist workflow state so an agent can resume exactly where it stopped.</li>\n",
    "    <li><strong>Where stored:</strong> Framework-managed checkpoint backend (e.g., SQLite/Postgres) keyed by a thread/run id.</li>\n",
    "    <li><strong>How used:</strong> Restores graph/node position and variables; not meant for semantic recall.</li>\n",
    "    <li><strong>Example:</strong> Job crashed at step 3 of 5; on restart it continues at step 4.</li>\n",
    "  </ul>\n",
    "\n",
    "  <h3 style=\"margin:18px 0 8px;\">Key Differences</h3>\n",
    "  <table style=\"border-collapse:collapse; width:100%;\">\n",
    "    <thead>\n",
    "      <tr>\n",
    "        <th style=\"text-align:left; border-bottom:1px solid #ddd; padding:8px;\">Aspect</th>\n",
    "        <th style=\"text-align:left; border-bottom:1px solid #ddd; padding:8px;\">Long-Term Memory</th>\n",
    "        <th style=\"text-align:left; border-bottom:1px solid #ddd; padding:8px;\">Execution / Checkpoints</th>\n",
    "      </tr>\n",
    "    </thead>\n",
    "    <tbody>\n",
    "      <tr>\n",
    "        <td style=\"padding:8px; border-bottom:1px dotted #eee;\">Goal</td>\n",
    "        <td style=\"padding:8px; border-bottom:1px dotted #eee;\">Recall knowledge across sessions</td>\n",
    "        <td style=\"padding:8px; border-bottom:1px dotted #eee;\">Resume workflow progress</td>\n",
    "      </tr>\n",
    "      <tr>\n",
    "        <td style=\"padding:8px; border-bottom:1px dotted #eee;\">Data</td>\n",
    "        <td style=\"padding:8px; border-bottom:1px dotted #eee;\">Facts, summaries, embeddings</td>\n",
    "        <td style=\"padding:8px; border-bottom:1px dotted #eee;\">Graph state, node position, variables</td>\n",
    "      </tr>\n",
    "      <tr>\n",
    "        <td style=\"padding:8px;\">Usage</td>\n",
    "        <td style=\"padding:8px;\">Retrieved and added to the prompt</td>\n",
    "        <td style=\"padding:8px;\">Internally restored by the framework</td>\n",
    "      </tr>\n",
    "    </tbody>\n",
    "  </table>\n",
    "</body>\n",
    "</html>\n"
   ]
  },
  {
   "cell_type": "code",
   "execution_count": 1,
   "id": "df7a953b",
   "metadata": {},
   "outputs": [
    {
     "name": "stderr",
     "output_type": "stream",
     "text": [
      "a:\\Indian_AI_Production_5\\agentic_ai\\agentic_ai_projects\\venv\\Lib\\site-packages\\tqdm\\auto.py:21: TqdmWarning: IProgress not found. Please update jupyter and ipywidgets. See https://ipywidgets.readthedocs.io/en/stable/user_install.html\n",
      "  from .autonotebook import tqdm as notebook_tqdm\n"
     ]
    },
    {
     "data": {
      "text/plain": [
       "True"
      ]
     },
     "execution_count": 1,
     "metadata": {},
     "output_type": "execute_result"
    }
   ],
   "source": [
    "from typing import TypedDict, Annotated\n",
    "from langchain.chat_models import init_chat_model\n",
    "from langgraph.graph import StateGraph, START, END\n",
    "from langgraph.graph.message import add_messages\n",
    "from langgraph.prebuilt import ToolNode, tools_condition\n",
    "from langchain_core.tools import tool\n",
    "from langchain_tavily import TavilySearch\n",
    "import gradio as gr\n",
    "import datetime\n",
    "from dotenv import load_dotenv\n",
    "from langgraph.checkpoint.memory import InMemorySaver\n",
    "\n",
    "load_dotenv()"
   ]
  },
  {
   "cell_type": "code",
   "execution_count": 2,
   "id": "b8400fc5",
   "metadata": {},
   "outputs": [],
   "source": [
    "import sqlite3\n",
    "from langgraph.checkpoint.sqlite import SqliteSaver"
   ]
  },
  {
   "cell_type": "code",
   "execution_count": 3,
   "id": "ca49888d",
   "metadata": {},
   "outputs": [],
   "source": [
    "db_path = r'A:\\Indian_AI_Production_5\\agentic_ai\\agentic_ai_projects\\data\\memory.db'\n",
    "conn = sqlite3.connect(db_path, check_same_thread=False)\n",
    "\n",
    "sql_checkpoint = SqliteSaver(conn)"
   ]
  },
  {
   "cell_type": "code",
   "execution_count": 4,
   "id": "42759a24",
   "metadata": {},
   "outputs": [],
   "source": [
    "llm_gpt = init_chat_model(\n",
    "    model=\"gpt-5\", model_provider='openai')"
   ]
  },
  {
   "cell_type": "code",
   "execution_count": 5,
   "id": "a406b1a4",
   "metadata": {},
   "outputs": [
    {
     "data": {
      "image/png": "[encoded data removed]",
      "text/plain": [
       "<langgraph.graph.state.CompiledStateGraph object at 0x000001A8EBF2E780>"
      ]
     },
     "execution_count": 5,
     "metadata": {},
     "output_type": "execute_result"
    }
   ],
   "source": [
    "class State(TypedDict):\n",
    "    messages: Annotated[list, add_messages]\n",
    "\n",
    "graph_builder = StateGraph(State)\n",
    "\n",
    "\n",
    "def chatbot(state: State)->State:\n",
    "    response = llm_gpt.invoke(state['messages'])\n",
    "    return State(messages=[response])\n",
    "\n",
    "graph_builder.add_node('chatbot', chatbot)\n",
    "\n",
    "graph_builder.add_edge(START, 'chatbot')\n",
    "graph_builder.add_edge('chatbot', END)\n",
    "\n",
    "graph = graph_builder.compile(checkpointer=sql_checkpoint)\n",
    "graph\n",
    "    "
   ]
  },
  {
   "cell_type": "code",
   "execution_count": 6,
   "id": "9420f736",
   "metadata": {},
   "outputs": [
    {
     "data": {
      "text/plain": [
       "{'messages': [HumanMessage(content='I am Kaju', additional_kwargs={}, response_metadata={}, id='17d5abf1-da0a-4f8a-85a5-44a1676f90ea'),\n",
       "  AIMessage(content='Nice to meet you, Kaju! How can I help you today?', additional_kwargs={'refusal': None}, response_metadata={'token_usage': {'completion_tokens': 152, 'prompt_tokens': 10, 'total_tokens': 162, 'completion_tokens_details': {'accepted_prediction_tokens': 0, 'audio_tokens': 0, 'reasoning_tokens': 128, 'rejected_prediction_tokens': 0}, 'prompt_tokens_details': {'audio_tokens': 0, 'cached_tokens': 0}}, 'model_name': 'gpt-5-2025-08-07', 'system_fingerprint': None, 'id': 'chatcmpl-C69YCtUe7sQvKD8bcpL6GhFC9rGxa', 'service_tier': 'default', 'finish_reason': 'stop', 'logprobs': None}, id='run--ed30e464-8ba6-4157-b133-f320e82aa5f8-0', usage_metadata={'input_tokens': 10, 'output_tokens': 152, 'total_tokens': 162, 'input_token_details': {'audio': 0, 'cache_read': 0}, 'output_token_details': {'audio': 0, 'reasoning': 128}}),\n",
       "  HumanMessage(content='What is my name', additional_kwargs={}, response_metadata={}, id='8b8653cd-3813-4423-a0b6-e8cd0b3b4e7a'),\n",
       "  AIMessage(content='Your name is Kaju.', additional_kwargs={'refusal': None}, response_metadata={'token_usage': {'completion_tokens': 143, 'prompt_tokens': 39, 'total_tokens': 182, 'completion_tokens_details': {'accepted_prediction_tokens': 0, 'audio_tokens': 0, 'reasoning_tokens': 128, 'rejected_prediction_tokens': 0}, 'prompt_tokens_details': {'audio_tokens': 0, 'cached_tokens': 0}}, 'model_name': 'gpt-5-2025-08-07', 'system_fingerprint': None, 'id': 'chatcmpl-C69YYyQrSAnFz8yH14a8xP7iEk7lO', 'service_tier': 'default', 'finish_reason': 'stop', 'logprobs': None}, id='run--b44a35b3-6b13-4534-a226-a331af11fafe-0', usage_metadata={'input_tokens': 39, 'output_tokens': 143, 'total_tokens': 182, 'input_token_details': {'audio': 0, 'cache_read': 0}, 'output_token_details': {'audio': 0, 'reasoning': 128}}),\n",
       "  HumanMessage(content='What is my name', additional_kwargs={}, response_metadata={}, id='967b99fb-e04d-451b-8cfb-18ab5a65db33'),\n",
       "  AIMessage(content='Your name is Kaju.', additional_kwargs={'refusal': None}, response_metadata={'token_usage': {'completion_tokens': 15, 'prompt_tokens': 59, 'total_tokens': 74, 'completion_tokens_details': {'accepted_prediction_tokens': 0, 'audio_tokens': 0, 'reasoning_tokens': 0, 'rejected_prediction_tokens': 0}, 'prompt_tokens_details': {'audio_tokens': 0, 'cached_tokens': 0}}, 'model_name': 'gpt-5-2025-08-07', 'system_fingerprint': None, 'id': 'chatcmpl-C69bv5HnBwOKebxLbvd54K1q1oUM2', 'service_tier': 'default', 'finish_reason': 'stop', 'logprobs': None}, id='run--43b55c8d-bd3f-47d3-9810-016b8e8893b7-0', usage_metadata={'input_tokens': 59, 'output_tokens': 15, 'total_tokens': 74, 'input_token_details': {'audio': 0, 'cache_read': 0}, 'output_token_details': {'audio': 0, 'reasoning': 0}}),\n",
       "  HumanMessage(content='I am Kaju', additional_kwargs={}, response_metadata={}, id='9787d29b-2df1-496b-9e07-59c7174e9927'),\n",
       "  AIMessage(content='Got it, Kaju. How can I help you today?', additional_kwargs={'refusal': None}, response_metadata={'token_usage': {'completion_tokens': 342, 'prompt_tokens': 79, 'total_tokens': 421, 'completion_tokens_details': {'accepted_prediction_tokens': 0, 'audio_tokens': 0, 'reasoning_tokens': 320, 'rejected_prediction_tokens': 0}, 'prompt_tokens_details': {'audio_tokens': 0, 'cached_tokens': 0}}, 'model_name': 'gpt-5-2025-08-07', 'system_fingerprint': None, 'id': 'chatcmpl-CDaAJTwOEmQR5949mtCO06BL5bLoD', 'service_tier': 'default', 'finish_reason': 'stop', 'logprobs': None}, id='run--e16976bc-792a-42de-92bb-8793e7a9a1c2-0', usage_metadata={'input_tokens': 79, 'output_tokens': 342, 'total_tokens': 421, 'input_token_details': {'audio': 0, 'cache_read': 0}, 'output_token_details': {'audio': 0, 'reasoning': 320}})]}"
      ]
     },
     "execution_count": 6,
     "metadata": {},
     "output_type": "execute_result"
    }
   ],
   "source": [
    "config = {'configurable': {'thread_id': '1'}}\n",
    "graph.invoke({'messages': ['I am Kaju']}, config=config)"
   ]
  },
  {
   "cell_type": "code",
   "execution_count": 7,
   "id": "3b1de993",
   "metadata": {},
   "outputs": [
    {
     "data": {
      "text/plain": [
       "{'messages': [HumanMessage(content='I am Kaju', additional_kwargs={}, response_metadata={}, id='17d5abf1-da0a-4f8a-85a5-44a1676f90ea'),\n",
       "  AIMessage(content='Nice to meet you, Kaju! How can I help you today?', additional_kwargs={'refusal': None}, response_metadata={'token_usage': {'completion_tokens': 152, 'prompt_tokens': 10, 'total_tokens': 162, 'completion_tokens_details': {'accepted_prediction_tokens': 0, 'audio_tokens': 0, 'reasoning_tokens': 128, 'rejected_prediction_tokens': 0}, 'prompt_tokens_details': {'audio_tokens': 0, 'cached_tokens': 0}}, 'model_name': 'gpt-5-2025-08-07', 'system_fingerprint': None, 'id': 'chatcmpl-C69YCtUe7sQvKD8bcpL6GhFC9rGxa', 'service_tier': 'default', 'finish_reason': 'stop', 'logprobs': None}, id='run--ed30e464-8ba6-4157-b133-f320e82aa5f8-0', usage_metadata={'input_tokens': 10, 'output_tokens': 152, 'total_tokens': 162, 'input_token_details': {'audio': 0, 'cache_read': 0}, 'output_token_details': {'audio': 0, 'reasoning': 128}}),\n",
       "  HumanMessage(content='What is my name', additional_kwargs={}, response_metadata={}, id='8b8653cd-3813-4423-a0b6-e8cd0b3b4e7a'),\n",
       "  AIMessage(content='Your name is Kaju.', additional_kwargs={'refusal': None}, response_metadata={'token_usage': {'completion_tokens': 143, 'prompt_tokens': 39, 'total_tokens': 182, 'completion_tokens_details': {'accepted_prediction_tokens': 0, 'audio_tokens': 0, 'reasoning_tokens': 128, 'rejected_prediction_tokens': 0}, 'prompt_tokens_details': {'audio_tokens': 0, 'cached_tokens': 0}}, 'model_name': 'gpt-5-2025-08-07', 'system_fingerprint': None, 'id': 'chatcmpl-C69YYyQrSAnFz8yH14a8xP7iEk7lO', 'service_tier': 'default', 'finish_reason': 'stop', 'logprobs': None}, id='run--b44a35b3-6b13-4534-a226-a331af11fafe-0', usage_metadata={'input_tokens': 39, 'output_tokens': 143, 'total_tokens': 182, 'input_token_details': {'audio': 0, 'cache_read': 0}, 'output_token_details': {'audio': 0, 'reasoning': 128}}),\n",
       "  HumanMessage(content='What is my name', additional_kwargs={}, response_metadata={}, id='967b99fb-e04d-451b-8cfb-18ab5a65db33'),\n",
       "  AIMessage(content='Your name is Kaju.', additional_kwargs={'refusal': None}, response_metadata={'token_usage': {'completion_tokens': 15, 'prompt_tokens': 59, 'total_tokens': 74, 'completion_tokens_details': {'accepted_prediction_tokens': 0, 'audio_tokens': 0, 'reasoning_tokens': 0, 'rejected_prediction_tokens': 0}, 'prompt_tokens_details': {'audio_tokens': 0, 'cached_tokens': 0}}, 'model_name': 'gpt-5-2025-08-07', 'system_fingerprint': None, 'id': 'chatcmpl-C69bv5HnBwOKebxLbvd54K1q1oUM2', 'service_tier': 'default', 'finish_reason': 'stop', 'logprobs': None}, id='run--43b55c8d-bd3f-47d3-9810-016b8e8893b7-0', usage_metadata={'input_tokens': 59, 'output_tokens': 15, 'total_tokens': 74, 'input_token_details': {'audio': 0, 'cache_read': 0}, 'output_token_details': {'audio': 0, 'reasoning': 0}}),\n",
       "  HumanMessage(content='I am Kaju', additional_kwargs={}, response_metadata={}, id='9787d29b-2df1-496b-9e07-59c7174e9927'),\n",
       "  AIMessage(content='Got it, Kaju. How can I help you today?', additional_kwargs={'refusal': None}, response_metadata={'token_usage': {'completion_tokens': 342, 'prompt_tokens': 79, 'total_tokens': 421, 'completion_tokens_details': {'accepted_prediction_tokens': 0, 'audio_tokens': 0, 'reasoning_tokens': 320, 'rejected_prediction_tokens': 0}, 'prompt_tokens_details': {'audio_tokens': 0, 'cached_tokens': 0}}, 'model_name': 'gpt-5-2025-08-07', 'system_fingerprint': None, 'id': 'chatcmpl-CDaAJTwOEmQR5949mtCO06BL5bLoD', 'service_tier': 'default', 'finish_reason': 'stop', 'logprobs': None}, id='run--e16976bc-792a-42de-92bb-8793e7a9a1c2-0', usage_metadata={'input_tokens': 79, 'output_tokens': 342, 'total_tokens': 421, 'input_token_details': {'audio': 0, 'cache_read': 0}, 'output_token_details': {'audio': 0, 'reasoning': 320}}),\n",
       "  HumanMessage(content='What is my name', additional_kwargs={}, response_metadata={}, id='7696ebca-e1fd-4666-943b-74b2c43d07dd'),\n",
       "  AIMessage(content='Your name is Kaju.', additional_kwargs={'refusal': None}, response_metadata={'token_usage': {'completion_tokens': 79, 'prompt_tokens': 106, 'total_tokens': 185, 'completion_tokens_details': {'accepted_prediction_tokens': 0, 'audio_tokens': 0, 'reasoning_tokens': 64, 'rejected_prediction_tokens': 0}, 'prompt_tokens_details': {'audio_tokens': 0, 'cached_tokens': 0}}, 'model_name': 'gpt-5-2025-08-07', 'system_fingerprint': None, 'id': 'chatcmpl-CDaAPCGzW4ZsonjoV5ohTwAKPFtD5', 'service_tier': 'default', 'finish_reason': 'stop', 'logprobs': None}, id='run--36ee4100-5159-4e8e-a7fd-a04e22945ee7-0', usage_metadata={'input_tokens': 106, 'output_tokens': 79, 'total_tokens': 185, 'input_token_details': {'audio': 0, 'cache_read': 0}, 'output_token_details': {'audio': 0, 'reasoning': 64}})]}"
      ]
     },
     "execution_count": 7,
     "metadata": {},
     "output_type": "execute_result"
    }
   ],
   "source": [
    "graph.invoke({'messages': ['What is my name']}, config=config)"
   ]
  },
  {
   "cell_type": "markdown",
   "id": "a4a234e8",
   "metadata": {},
   "source": [
    "## After restart kernel"
   ]
  },
  {
   "cell_type": "code",
   "execution_count": 8,
   "id": "0f7431f8",
   "metadata": {},
   "outputs": [
    {
     "data": {
      "text/plain": [
       "{'messages': [HumanMessage(content='I am Kaju', additional_kwargs={}, response_metadata={}, id='17d5abf1-da0a-4f8a-85a5-44a1676f90ea'),\n",
       "  AIMessage(content='Nice to meet you, Kaju! How can I help you today?', additional_kwargs={'refusal': None}, response_metadata={'token_usage': {'completion_tokens': 152, 'prompt_tokens': 10, 'total_tokens': 162, 'completion_tokens_details': {'accepted_prediction_tokens': 0, 'audio_tokens': 0, 'reasoning_tokens': 128, 'rejected_prediction_tokens': 0}, 'prompt_tokens_details': {'audio_tokens': 0, 'cached_tokens': 0}}, 'model_name': 'gpt-5-2025-08-07', 'system_fingerprint': None, 'id': 'chatcmpl-C69YCtUe7sQvKD8bcpL6GhFC9rGxa', 'service_tier': 'default', 'finish_reason': 'stop', 'logprobs': None}, id='run--ed30e464-8ba6-4157-b133-f320e82aa5f8-0', usage_metadata={'input_tokens': 10, 'output_tokens': 152, 'total_tokens': 162, 'input_token_details': {'audio': 0, 'cache_read': 0}, 'output_token_details': {'audio': 0, 'reasoning': 128}}),\n",
       "  HumanMessage(content='What is my name', additional_kwargs={}, response_metadata={}, id='8b8653cd-3813-4423-a0b6-e8cd0b3b4e7a'),\n",
       "  AIMessage(content='Your name is Kaju.', additional_kwargs={'refusal': None}, response_metadata={'token_usage': {'completion_tokens': 143, 'prompt_tokens': 39, 'total_tokens': 182, 'completion_tokens_details': {'accepted_prediction_tokens': 0, 'audio_tokens': 0, 'reasoning_tokens': 128, 'rejected_prediction_tokens': 0}, 'prompt_tokens_details': {'audio_tokens': 0, 'cached_tokens': 0}}, 'model_name': 'gpt-5-2025-08-07', 'system_fingerprint': None, 'id': 'chatcmpl-C69YYyQrSAnFz8yH14a8xP7iEk7lO', 'service_tier': 'default', 'finish_reason': 'stop', 'logprobs': None}, id='run--b44a35b3-6b13-4534-a226-a331af11fafe-0', usage_metadata={'input_tokens': 39, 'output_tokens': 143, 'total_tokens': 182, 'input_token_details': {'audio': 0, 'cache_read': 0}, 'output_token_details': {'audio': 0, 'reasoning': 128}}),\n",
       "  HumanMessage(content='What is my name', additional_kwargs={}, response_metadata={}, id='967b99fb-e04d-451b-8cfb-18ab5a65db33'),\n",
       "  AIMessage(content='Your name is Kaju.', additional_kwargs={'refusal': None}, response_metadata={'token_usage': {'completion_tokens': 15, 'prompt_tokens': 59, 'total_tokens': 74, 'completion_tokens_details': {'accepted_prediction_tokens': 0, 'audio_tokens': 0, 'reasoning_tokens': 0, 'rejected_prediction_tokens': 0}, 'prompt_tokens_details': {'audio_tokens': 0, 'cached_tokens': 0}}, 'model_name': 'gpt-5-2025-08-07', 'system_fingerprint': None, 'id': 'chatcmpl-C69bv5HnBwOKebxLbvd54K1q1oUM2', 'service_tier': 'default', 'finish_reason': 'stop', 'logprobs': None}, id='run--43b55c8d-bd3f-47d3-9810-016b8e8893b7-0', usage_metadata={'input_tokens': 59, 'output_tokens': 15, 'total_tokens': 74, 'input_token_details': {'audio': 0, 'cache_read': 0}, 'output_token_details': {'audio': 0, 'reasoning': 0}}),\n",
       "  HumanMessage(content='I am Kaju', additional_kwargs={}, response_metadata={}, id='9787d29b-2df1-496b-9e07-59c7174e9927'),\n",
       "  AIMessage(content='Got it, Kaju. How can I help you today?', additional_kwargs={'refusal': None}, response_metadata={'token_usage': {'completion_tokens': 342, 'prompt_tokens': 79, 'total_tokens': 421, 'completion_tokens_details': {'accepted_prediction_tokens': 0, 'audio_tokens': 0, 'reasoning_tokens': 320, 'rejected_prediction_tokens': 0}, 'prompt_tokens_details': {'audio_tokens': 0, 'cached_tokens': 0}}, 'model_name': 'gpt-5-2025-08-07', 'system_fingerprint': None, 'id': 'chatcmpl-CDaAJTwOEmQR5949mtCO06BL5bLoD', 'service_tier': 'default', 'finish_reason': 'stop', 'logprobs': None}, id='run--e16976bc-792a-42de-92bb-8793e7a9a1c2-0', usage_metadata={'input_tokens': 79, 'output_tokens': 342, 'total_tokens': 421, 'input_token_details': {'audio': 0, 'cache_read': 0}, 'output_token_details': {'audio': 0, 'reasoning': 320}}),\n",
       "  HumanMessage(content='What is my name', additional_kwargs={}, response_metadata={}, id='7696ebca-e1fd-4666-943b-74b2c43d07dd'),\n",
       "  AIMessage(content='Your name is Kaju.', additional_kwargs={'refusal': None}, response_metadata={'token_usage': {'completion_tokens': 79, 'prompt_tokens': 106, 'total_tokens': 185, 'completion_tokens_details': {'accepted_prediction_tokens': 0, 'audio_tokens': 0, 'reasoning_tokens': 64, 'rejected_prediction_tokens': 0}, 'prompt_tokens_details': {'audio_tokens': 0, 'cached_tokens': 0}}, 'model_name': 'gpt-5-2025-08-07', 'system_fingerprint': None, 'id': 'chatcmpl-CDaAPCGzW4ZsonjoV5ohTwAKPFtD5', 'service_tier': 'default', 'finish_reason': 'stop', 'logprobs': None}, id='run--36ee4100-5159-4e8e-a7fd-a04e22945ee7-0', usage_metadata={'input_tokens': 106, 'output_tokens': 79, 'total_tokens': 185, 'input_token_details': {'audio': 0, 'cache_read': 0}, 'output_token_details': {'audio': 0, 'reasoning': 64}}),\n",
       "  HumanMessage(content='What is my name', additional_kwargs={}, response_metadata={}, id='7a4084e5-2312-4295-a097-14cfc2b07e80'),\n",
       "  AIMessage(content='Your name is Kaju.', additional_kwargs={'refusal': None}, response_metadata={'token_usage': {'completion_tokens': 15, 'prompt_tokens': 126, 'total_tokens': 141, 'completion_tokens_details': {'accepted_prediction_tokens': 0, 'audio_tokens': 0, 'reasoning_tokens': 0, 'rejected_prediction_tokens': 0}, 'prompt_tokens_details': {'audio_tokens': 0, 'cached_tokens': 0}}, 'model_name': 'gpt-5-2025-08-07', 'system_fingerprint': None, 'id': 'chatcmpl-CDaASguQkyO0NaOU5hINDWke7Icgw', 'service_tier': 'default', 'finish_reason': 'stop', 'logprobs': None}, id='run--4509ac1e-ff4f-43a6-9d53-dd16bd369d8d-0', usage_metadata={'input_tokens': 126, 'output_tokens': 15, 'total_tokens': 141, 'input_token_details': {'audio': 0, 'cache_read': 0}, 'output_token_details': {'audio': 0, 'reasoning': 0}})]}"
      ]
     },
     "execution_count": 8,
     "metadata": {},
     "output_type": "execute_result"
    }
   ],
   "source": [
    "config = {'configurable': {'thread_id': '1'}}\n",
    "graph.invoke({'messages': ['What is my name']}, config=config)"
   ]
  },
  {
   "cell_type": "code",
   "execution_count": 9,
   "id": "220044de",
   "metadata": {},
   "outputs": [
    {
     "data": {
      "text/plain": [
       "{'messages': [HumanMessage(content='What is my name', additional_kwargs={}, response_metadata={}, id='cb587005-d883-460a-baa3-9f43238a7fd0'),\n",
       "  AIMessage(content='I don’t know your name yet. What would you like me to call you?', additional_kwargs={'refusal': None}, response_metadata={'token_usage': {'completion_tokens': 218, 'prompt_tokens': 10, 'total_tokens': 228, 'completion_tokens_details': {'accepted_prediction_tokens': 0, 'audio_tokens': 0, 'reasoning_tokens': 192, 'rejected_prediction_tokens': 0}, 'prompt_tokens_details': {'audio_tokens': 0, 'cached_tokens': 0}}, 'model_name': 'gpt-5-2025-08-07', 'system_fingerprint': None, 'id': 'chatcmpl-C69cwXVWCBlFnmRnlqpMvRA37ulkP', 'service_tier': 'default', 'finish_reason': 'stop', 'logprobs': None}, id='run--db8d6135-6aab-4706-8d89-e3a11b4bfc31-0', usage_metadata={'input_tokens': 10, 'output_tokens': 218, 'total_tokens': 228, 'input_token_details': {'audio': 0, 'cache_read': 0}, 'output_token_details': {'audio': 0, 'reasoning': 192}}),\n",
       "  HumanMessage(content='What is my name', additional_kwargs={}, response_metadata={}, id='e43d401e-db41-48e5-9683-b9998d45853a'),\n",
       "  AIMessage(content='I don’t know your name. What would you like me to call you? If you tell me, I’ll use it for this conversation.', additional_kwargs={'refusal': None}, response_metadata={'token_usage': {'completion_tokens': 230, 'prompt_tokens': 41, 'total_tokens': 271, 'completion_tokens_details': {'accepted_prediction_tokens': 0, 'audio_tokens': 0, 'reasoning_tokens': 192, 'rejected_prediction_tokens': 0}, 'prompt_tokens_details': {'audio_tokens': 0, 'cached_tokens': 0}}, 'model_name': 'gpt-5-2025-08-07', 'system_fingerprint': None, 'id': 'chatcmpl-CDaAUL51mfkVVfC2efltD2PI93Ccu', 'service_tier': 'default', 'finish_reason': 'stop', 'logprobs': None}, id='run--a007ec20-e533-4c11-ba62-980077590a74-0', usage_metadata={'input_tokens': 41, 'output_tokens': 230, 'total_tokens': 271, 'input_token_details': {'audio': 0, 'cache_read': 0}, 'output_token_details': {'audio': 0, 'reasoning': 192}})]}"
      ]
     },
     "execution_count": 9,
     "metadata": {},
     "output_type": "execute_result"
    }
   ],
   "source": [
    "config = {'configurable': {'thread_id': '2'}}\n",
    "graph.invoke({'messages': ['What is my name']}, config=config)"
   ]
  },
  {
   "cell_type": "code",
   "execution_count": 10,
   "id": "f7e3ce60",
   "metadata": {},
   "outputs": [
    {
     "name": "stdout",
     "output_type": "stream",
     "text": [
      "sql_mem_1 messages:\n",
      "[HumanMessage(content='What is my name', additional_kwargs={}, response_metadata={}, id='cb587005-d883-460a-baa3-9f43238a7fd0'), AIMessage(content='I don’t know your name yet. What would you like me to call you?', additional_kwargs={'refusal': None}, response_metadata={'token_usage': {'completion_tokens': 218, 'prompt_tokens': 10, 'total_tokens': 228, 'completion_tokens_details': {'accepted_prediction_tokens': 0, 'audio_tokens': 0, 'reasoning_tokens': 192, 'rejected_prediction_tokens': 0}, 'prompt_tokens_details': {'audio_tokens': 0, 'cached_tokens': 0}}, 'model_name': 'gpt-5-2025-08-07', 'system_fingerprint': None, 'id': 'chatcmpl-C69cwXVWCBlFnmRnlqpMvRA37ulkP', 'service_tier': 'default', 'finish_reason': 'stop', 'logprobs': None}, id='run--db8d6135-6aab-4706-8d89-e3a11b4bfc31-0', usage_metadata={'input_tokens': 10, 'output_tokens': 218, 'total_tokens': 228, 'input_token_details': {'audio': 0, 'cache_read': 0}, 'output_token_details': {'audio': 0, 'reasoning': 192}}), HumanMessage(content='What is my name', additional_kwargs={}, response_metadata={}, id='e43d401e-db41-48e5-9683-b9998d45853a'), AIMessage(content='I don’t know your name. What would you like me to call you? If you tell me, I’ll use it for this conversation.', additional_kwargs={'refusal': None}, response_metadata={'token_usage': {'completion_tokens': 230, 'prompt_tokens': 41, 'total_tokens': 271, 'completion_tokens_details': {'accepted_prediction_tokens': 0, 'audio_tokens': 0, 'reasoning_tokens': 192, 'rejected_prediction_tokens': 0}, 'prompt_tokens_details': {'audio_tokens': 0, 'cached_tokens': 0}}, 'model_name': 'gpt-5-2025-08-07', 'system_fingerprint': None, 'id': 'chatcmpl-CDaAUL51mfkVVfC2efltD2PI93Ccu', 'service_tier': 'default', 'finish_reason': 'stop', 'logprobs': None}, id='run--a007ec20-e533-4c11-ba62-980077590a74-0', usage_metadata={'input_tokens': 41, 'output_tokens': 230, 'total_tokens': 271, 'input_token_details': {'audio': 0, 'cache_read': 0}, 'output_token_details': {'audio': 0, 'reasoning': 192}})]\n"
     ]
    }
   ],
   "source": [
    "# Get latest state for a thread_id\n",
    "snap1 = graph.get_state(config)          # {'configurable': {'thread_id': '2'}}\n",
    "print(\"sql_mem_1 messages:\")\n",
    "print(snap1.values.get(\"messages\", []))"
   ]
  },
  {
   "cell_type": "code",
   "execution_count": 11,
   "id": "d8c547b0",
   "metadata": {},
   "outputs": [
    {
     "data": {
      "text/plain": [
       "{'messages': [HumanMessage(content='What is my name', additional_kwargs={}, response_metadata={}, id='cb587005-d883-460a-baa3-9f43238a7fd0'),\n",
       "  AIMessage(content='I don’t know your name yet. What would you like me to call you?', additional_kwargs={'refusal': None}, response_metadata={'token_usage': {'completion_tokens': 218, 'prompt_tokens': 10, 'total_tokens': 228, 'completion_tokens_details': {'accepted_prediction_tokens': 0, 'audio_tokens': 0, 'reasoning_tokens': 192, 'rejected_prediction_tokens': 0}, 'prompt_tokens_details': {'audio_tokens': 0, 'cached_tokens': 0}}, 'model_name': 'gpt-5-2025-08-07', 'system_fingerprint': None, 'id': 'chatcmpl-C69cwXVWCBlFnmRnlqpMvRA37ulkP', 'service_tier': 'default', 'finish_reason': 'stop', 'logprobs': None}, id='run--db8d6135-6aab-4706-8d89-e3a11b4bfc31-0', usage_metadata={'input_tokens': 10, 'output_tokens': 218, 'total_tokens': 228, 'input_token_details': {'audio': 0, 'cache_read': 0}, 'output_token_details': {'audio': 0, 'reasoning': 192}}),\n",
       "  HumanMessage(content='What is my name', additional_kwargs={}, response_metadata={}, id='e43d401e-db41-48e5-9683-b9998d45853a'),\n",
       "  AIMessage(content='I don’t know your name. What would you like me to call you? If you tell me, I’ll use it for this conversation.', additional_kwargs={'refusal': None}, response_metadata={'token_usage': {'completion_tokens': 230, 'prompt_tokens': 41, 'total_tokens': 271, 'completion_tokens_details': {'accepted_prediction_tokens': 0, 'audio_tokens': 0, 'reasoning_tokens': 192, 'rejected_prediction_tokens': 0}, 'prompt_tokens_details': {'audio_tokens': 0, 'cached_tokens': 0}}, 'model_name': 'gpt-5-2025-08-07', 'system_fingerprint': None, 'id': 'chatcmpl-CDaAUL51mfkVVfC2efltD2PI93Ccu', 'service_tier': 'default', 'finish_reason': 'stop', 'logprobs': None}, id='run--a007ec20-e533-4c11-ba62-980077590a74-0', usage_metadata={'input_tokens': 41, 'output_tokens': 230, 'total_tokens': 271, 'input_token_details': {'audio': 0, 'cache_read': 0}, 'output_token_details': {'audio': 0, 'reasoning': 192}}),\n",
       "  HumanMessage(content='what is AgentScope 1.0', additional_kwargs={}, response_metadata={}, id='d4bf8f39-b8f0-4690-a0df-db907f69958d'),\n",
       "  AIMessage(content='AgentScope 1.0 typically refers to the first stable release of an open‑source Python framework for building and orchestrating LLM‑powered agents and multi‑agent workflows. In short, it helps you define agents, give them tools (APIs, web/search, code execution), connect them into workflows or teams, and run/monitor them in a reliable, scalable way.\\n\\nCommon capabilities attributed to AgentScope 1.0:\\n- Agent and tool abstractions: create agents, attach tools/functions, manage prompts and roles.\\n- Multi‑agent orchestration: team/graph/DAG workflows, message routing, coordination patterns.\\n- Memory and state: short/long‑term context management and persistence.\\n- Model/provider flexibility: works with popular LLM APIs and local models.\\n- Built‑in integrations: typical tools for web, code, databases, and RAG connectors.\\n- Observability and evaluation: logging/tracing hooks and evaluation utilities.\\n- Deployment and scaling: async execution, concurrency, Docker/K8s readiness.\\n- Templates/examples: starter blueprints for assistants, RAG apps, web/browse agents, etc.\\n\\nIf you mean a different product named “AgentScope 1.0” (e.g., from a specific company), tell me which one and I’ll tailor the details.', additional_kwargs={'refusal': None}, response_metadata={'token_usage': {'completion_tokens': 1680, 'prompt_tokens': 88, 'total_tokens': 1768, 'completion_tokens_details': {'accepted_prediction_tokens': 0, 'audio_tokens': 0, 'reasoning_tokens': 1408, 'rejected_prediction_tokens': 0}, 'prompt_tokens_details': {'audio_tokens': 0, 'cached_tokens': 0}}, 'model_name': 'gpt-5-2025-08-07', 'system_fingerprint': None, 'id': 'chatcmpl-CDaAw4PomCO2e6KFF4FGnzecucWGz', 'service_tier': 'default', 'finish_reason': 'stop', 'logprobs': None}, id='run--b725edbd-51fb-4923-a65c-88d7ff2379fa-0', usage_metadata={'input_tokens': 88, 'output_tokens': 1680, 'total_tokens': 1768, 'input_token_details': {'audio': 0, 'cache_read': 0}, 'output_token_details': {'audio': 0, 'reasoning': 1408}})]}"
      ]
     },
     "execution_count": 11,
     "metadata": {},
     "output_type": "execute_result"
    }
   ],
   "source": [
    "graph.invoke({'messages': ['what is AgentScope 1.0']}, config=config)"
   ]
  },
  {
   "cell_type": "code",
   "execution_count": 12,
   "id": "d529fa10",
   "metadata": {},
   "outputs": [
    {
     "data": {
      "text/plain": [
       "{'messages': [HumanMessage(content='What is my name', additional_kwargs={}, response_metadata={}, id='cb587005-d883-460a-baa3-9f43238a7fd0'),\n",
       "  AIMessage(content='I don’t know your name yet. What would you like me to call you?', additional_kwargs={'refusal': None}, response_metadata={'token_usage': {'completion_tokens': 218, 'prompt_tokens': 10, 'total_tokens': 228, 'completion_tokens_details': {'accepted_prediction_tokens': 0, 'audio_tokens': 0, 'reasoning_tokens': 192, 'rejected_prediction_tokens': 0}, 'prompt_tokens_details': {'audio_tokens': 0, 'cached_tokens': 0}}, 'model_name': 'gpt-5-2025-08-07', 'system_fingerprint': None, 'id': 'chatcmpl-C69cwXVWCBlFnmRnlqpMvRA37ulkP', 'service_tier': 'default', 'finish_reason': 'stop', 'logprobs': None}, id='run--db8d6135-6aab-4706-8d89-e3a11b4bfc31-0', usage_metadata={'input_tokens': 10, 'output_tokens': 218, 'total_tokens': 228, 'input_token_details': {'audio': 0, 'cache_read': 0}, 'output_token_details': {'audio': 0, 'reasoning': 192}}),\n",
       "  HumanMessage(content='What is my name', additional_kwargs={}, response_metadata={}, id='e43d401e-db41-48e5-9683-b9998d45853a'),\n",
       "  AIMessage(content='I don’t know your name. What would you like me to call you? If you tell me, I’ll use it for this conversation.', additional_kwargs={'refusal': None}, response_metadata={'token_usage': {'completion_tokens': 230, 'prompt_tokens': 41, 'total_tokens': 271, 'completion_tokens_details': {'accepted_prediction_tokens': 0, 'audio_tokens': 0, 'reasoning_tokens': 192, 'rejected_prediction_tokens': 0}, 'prompt_tokens_details': {'audio_tokens': 0, 'cached_tokens': 0}}, 'model_name': 'gpt-5-2025-08-07', 'system_fingerprint': None, 'id': 'chatcmpl-CDaAUL51mfkVVfC2efltD2PI93Ccu', 'service_tier': 'default', 'finish_reason': 'stop', 'logprobs': None}, id='run--a007ec20-e533-4c11-ba62-980077590a74-0', usage_metadata={'input_tokens': 41, 'output_tokens': 230, 'total_tokens': 271, 'input_token_details': {'audio': 0, 'cache_read': 0}, 'output_token_details': {'audio': 0, 'reasoning': 192}}),\n",
       "  HumanMessage(content='what is AgentScope 1.0', additional_kwargs={}, response_metadata={}, id='d4bf8f39-b8f0-4690-a0df-db907f69958d'),\n",
       "  AIMessage(content='AgentScope 1.0 typically refers to the first stable release of an open‑source Python framework for building and orchestrating LLM‑powered agents and multi‑agent workflows. In short, it helps you define agents, give them tools (APIs, web/search, code execution), connect them into workflows or teams, and run/monitor them in a reliable, scalable way.\\n\\nCommon capabilities attributed to AgentScope 1.0:\\n- Agent and tool abstractions: create agents, attach tools/functions, manage prompts and roles.\\n- Multi‑agent orchestration: team/graph/DAG workflows, message routing, coordination patterns.\\n- Memory and state: short/long‑term context management and persistence.\\n- Model/provider flexibility: works with popular LLM APIs and local models.\\n- Built‑in integrations: typical tools for web, code, databases, and RAG connectors.\\n- Observability and evaluation: logging/tracing hooks and evaluation utilities.\\n- Deployment and scaling: async execution, concurrency, Docker/K8s readiness.\\n- Templates/examples: starter blueprints for assistants, RAG apps, web/browse agents, etc.\\n\\nIf you mean a different product named “AgentScope 1.0” (e.g., from a specific company), tell me which one and I’ll tailor the details.', additional_kwargs={'refusal': None}, response_metadata={'token_usage': {'completion_tokens': 1680, 'prompt_tokens': 88, 'total_tokens': 1768, 'completion_tokens_details': {'accepted_prediction_tokens': 0, 'audio_tokens': 0, 'reasoning_tokens': 1408, 'rejected_prediction_tokens': 0}, 'prompt_tokens_details': {'audio_tokens': 0, 'cached_tokens': 0}}, 'model_name': 'gpt-5-2025-08-07', 'system_fingerprint': None, 'id': 'chatcmpl-CDaAw4PomCO2e6KFF4FGnzecucWGz', 'service_tier': 'default', 'finish_reason': 'stop', 'logprobs': None}, id='run--b725edbd-51fb-4923-a65c-88d7ff2379fa-0', usage_metadata={'input_tokens': 88, 'output_tokens': 1680, 'total_tokens': 1768, 'input_token_details': {'audio': 0, 'cache_read': 0}, 'output_token_details': {'audio': 0, 'reasoning': 1408}}),\n",
       "  HumanMessage(content='what is LuxDiT', additional_kwargs={}, response_metadata={}, id='c713d20a-4230-4cfb-bc4b-49391785d642'),\n",
       "  AIMessage(content='I’m not sure which “LuxDiT” you mean. The name usually refers to a Diffusion Transformer (DiT)–based model (for image generation or denoising, often in graphics/lighting contexts), but there are a few projects with that name. Could you share a link or the source (paper, repo, or company)? Then I can give a precise summary.', additional_kwargs={'refusal': None}, response_metadata={'token_usage': {'completion_tokens': 1368, 'prompt_tokens': 366, 'total_tokens': 1734, 'completion_tokens_details': {'accepted_prediction_tokens': 0, 'audio_tokens': 0, 'reasoning_tokens': 1280, 'rejected_prediction_tokens': 0}, 'prompt_tokens_details': {'audio_tokens': 0, 'cached_tokens': 0}}, 'model_name': 'gpt-5-2025-08-07', 'system_fingerprint': None, 'id': 'chatcmpl-CDaEk10NRc8XjLNIjfQ9V2aGIqNuv', 'service_tier': 'default', 'finish_reason': 'stop', 'logprobs': None}, id='run--6bd0f979-5845-45b8-b10f-65e57ec8d74e-0', usage_metadata={'input_tokens': 366, 'output_tokens': 1368, 'total_tokens': 1734, 'input_token_details': {'audio': 0, 'cache_read': 0}, 'output_token_details': {'audio': 0, 'reasoning': 1280}})]}"
      ]
     },
     "execution_count": 12,
     "metadata": {},
     "output_type": "execute_result"
    }
   ],
   "source": [
    "\n",
    "graph.invoke({'messages': ['what is LuxDiT']}, config=config)"
   ]
  },
  {
   "cell_type": "code",
   "execution_count": null,
   "id": "2d307148",
   "metadata": {},
   "outputs": [],
   "source": []
  }
 ],
 "metadata": {
  "kernelspec": {
   "display_name": "venv",
   "language": "python",
   "name": "python3"
  },
  "language_info": {
   "codemirror_mode": {
    "name": "ipython",
    "version": 3
   },
   "file_extension": ".py",
   "mimetype": "text/x-python",
   "name": "python",
   "nbconvert_exporter": "python",
   "pygments_lexer": "ipython3",
   "version": "3.12.0"
  }
 },
 "nbformat": 4,
 "nbformat_minor": 5
}
