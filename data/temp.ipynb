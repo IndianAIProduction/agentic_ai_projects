{
 "cells": [
  {
   "cell_type": "code",
   "execution_count": null,
   "id": "8f311fe8",
   "metadata": {},
   "outputs": [],
   "source": [
    "langgraph-checkpoint-sqlite\n",
    "\n",
    "# don't use until error not occurs\n",
    "msgpack"
   ]
  },
  {
   "cell_type": "markdown",
   "id": "4953ca9a",
   "metadata": {},
   "source": [
    "006_add_memory_long_term_to_agent"
   ]
  },
  {
   "cell_type": "markdown",
   "id": "156ee9d5",
   "metadata": {},
   "source": [
    "<!DOCTYPE html>\n",
    "<html lang=\"en\">\n",
    "<head>\n",
    "  <meta charset=\"utf-8\" />\n",
    "  <title>Agentic AI Memory — LTM vs Checkpoints (Quick)</title>\n",
    "  <meta name=\"viewport\" content=\"width=device-width, initial-scale=1\" />\n",
    "</head>\n",
    "<body style=\"font-family:system-ui,-apple-system,Segoe UI,Roboto,Inter,Arial; line-height:1.5; max-width:860px; margin:24px auto; padding:0 16px;\">\n",
    "\n",
    "  <h2 style=\"margin:18px 0 8px;\">2) Long-Term Memory (LTM)</h2>\n",
    "  <ul>\n",
    "    <li><strong>Purpose:</strong> Remember facts, preferences, and past interactions across sessions.</li>\n",
    "    <li><strong>Where stored:</strong> Durable stores (SQL/SQLite/Postgres) and often embeddings in a vector index.</li>\n",
    "    <li><strong>How used:</strong> Retrieved (keyword/semantic) and injected into the prompt before the LLM call.</li>\n",
    "    <li><strong>Example:</strong> “Your name is Raju and you prefer concise answers.”</li>\n",
    "  </ul>\n",
    "\n",
    "  <h2 style=\"margin:18px 0 8px;\">3) Execution Memory / Checkpoints</h2>\n",
    "  <ul>\n",
    "    <li><strong>Purpose:</strong> Persist workflow state so an agent can resume exactly where it stopped.</li>\n",
    "    <li><strong>Where stored:</strong> Framework-managed checkpoint backend (e.g., SQLite/Postgres) keyed by a thread/run id.</li>\n",
    "    <li><strong>How used:</strong> Restores graph/node position and variables; not meant for semantic recall.</li>\n",
    "    <li><strong>Example:</strong> Job crashed at step 3 of 5; on restart it continues at step 4.</li>\n",
    "  </ul>\n",
    "\n",
    "  <h3 style=\"margin:18px 0 8px;\">Key Differences</h3>\n",
    "  <table style=\"border-collapse:collapse; width:100%;\">\n",
    "    <thead>\n",
    "      <tr>\n",
    "        <th style=\"text-align:left; border-bottom:1px solid #ddd; padding:8px;\">Aspect</th>\n",
    "        <th style=\"text-align:left; border-bottom:1px solid #ddd; padding:8px;\">Long-Term Memory</th>\n",
    "        <th style=\"text-align:left; border-bottom:1px solid #ddd; padding:8px;\">Execution / Checkpoints</th>\n",
    "      </tr>\n",
    "    </thead>\n",
    "    <tbody>\n",
    "      <tr>\n",
    "        <td style=\"padding:8px; border-bottom:1px dotted #eee;\">Goal</td>\n",
    "        <td style=\"padding:8px; border-bottom:1px dotted #eee;\">Recall knowledge across sessions</td>\n",
    "        <td style=\"padding:8px; border-bottom:1px dotted #eee;\">Resume workflow progress</td>\n",
    "      </tr>\n",
    "      <tr>\n",
    "        <td style=\"padding:8px; border-bottom:1px dotted #eee;\">Data</td>\n",
    "        <td style=\"padding:8px; border-bottom:1px dotted #eee;\">Facts, summaries, embeddings</td>\n",
    "        <td style=\"padding:8px; border-bottom:1px dotted #eee;\">Graph state, node position, variables</td>\n",
    "      </tr>\n",
    "      <tr>\n",
    "        <td style=\"padding:8px;\">Usage</td>\n",
    "        <td style=\"padding:8px;\">Retrieved and added to the prompt</td>\n",
    "        <td style=\"padding:8px;\">Internally restored by the framework</td>\n",
    "      </tr>\n",
    "    </tbody>\n",
    "  </table>\n",
    "</body>\n",
    "</html>\n"
   ]
  },
  {
   "cell_type": "markdown",
   "id": "cba44a7e",
   "metadata": {},
   "source": [
    "REFE: https://pypi.org/project/langgraph-checkpoint-sqlite/<br>https://langchain-ai.github.io/langgraph/how-tos/memory/add-memory/"
   ]
  },
  {
   "cell_type": "code",
   "execution_count": 1,
   "id": "79828b79",
   "metadata": {},
   "outputs": [
    {
     "name": "stderr",
     "output_type": "stream",
     "text": [
      "a:\\Indian_AI_Production_5\\agentic_ai\\agentic_ai_projects\\venv\\Lib\\site-packages\\tqdm\\auto.py:21: TqdmWarning: IProgress not found. Please update jupyter and ipywidgets. See https://ipywidgets.readthedocs.io/en/stable/user_install.html\n",
      "  from .autonotebook import tqdm as notebook_tqdm\n"
     ]
    },
    {
     "data": {
      "text/plain": [
       "True"
      ]
     },
     "execution_count": 1,
     "metadata": {},
     "output_type": "execute_result"
    }
   ],
   "source": [
    "from typing import Annotated, TypedDict\n",
    "from langgraph.graph import StateGraph, START, END\n",
    "from langgraph.graph.message import add_messages\n",
    "from langchain.chat_models import init_chat_model\n",
    "import gradio as gr\n",
    "from langgraph.prebuilt import ToolNode, tools_condition\n",
    "from langchain_tavily import TavilySearch\n",
    "from datetime import datetime\n",
    "from langchain_core.tools import tool\n",
    "from dotenv import load_dotenv\n",
    "load_dotenv(override=True)"
   ]
  },
  {
   "cell_type": "code",
   "execution_count": 2,
   "id": "026274b2",
   "metadata": {},
   "outputs": [],
   "source": [
    "import sqlite3\n",
    "from langgraph.checkpoint.sqlite import SqliteSaver"
   ]
  },
  {
   "cell_type": "code",
   "execution_count": null,
   "id": "2ebe4a4e",
   "metadata": {},
   "outputs": [],
   "source": [
    "db_path = r'A:\\Indian_AI_Production_5\\agentic_ai\\agentic_ai_projects\\data\\memory.db'\n",
    "conn = sqlite3.connect(db_path, check_same_thread=False)\n",
    "sql_checkpointer = SqliteSaver(conn)"
   ]
  },
  {
   "cell_type": "code",
   "execution_count": 4,
   "id": "2c8c9ec6",
   "metadata": {},
   "outputs": [],
   "source": [
    "gpt_model_name = 'gpt-5-2025-08-07'\n",
    "llm = init_chat_model(gpt_model_name, model_provider='openai')"
   ]
  },
  {
   "cell_type": "code",
   "execution_count": 5,
   "id": "847a9b27",
   "metadata": {},
   "outputs": [],
   "source": [
    "class State(TypedDict):\n",
    "    messages: Annotated[list, add_messages]\n",
    "\n",
    "graph_builder = StateGraph(State)\n",
    "\n",
    "def chatbot(state: State)->State:\n",
    "    response = llm.invoke(state['messages'])\n",
    "    return State(messages=response)\n"
   ]
  },
  {
   "cell_type": "code",
   "execution_count": 6,
   "id": "d343288b",
   "metadata": {},
   "outputs": [
    {
     "data": {
      "image/png": "[encoded data removed]",
      "text/plain": [
       "<langgraph.graph.state.CompiledStateGraph object at 0x00000269CDBFB350>"
      ]
     },
     "execution_count": 6,
     "metadata": {},
     "output_type": "execute_result"
    }
   ],
   "source": [
    "graph_builder.add_node('chatbot', chatbot)\n",
    "\n",
    "graph_builder.add_edge(START, 'chatbot')\n",
    "graph_builder.add_edge('chatbot', END)\n",
    "\n",
    "graph = graph_builder.compile(checkpointer=sql_checkpointer)\n",
    "graph"
   ]
  },
  {
   "cell_type": "code",
   "execution_count": 7,
   "id": "fd2a973f",
   "metadata": {},
   "outputs": [],
   "source": [
    "config = {'configurable': {'thread_id': 'sql_mem_1'}}"
   ]
  },
  {
   "cell_type": "code",
   "execution_count": 8,
   "id": "9ee5a51e",
   "metadata": {},
   "outputs": [
    {
     "data": {
      "text/plain": [
       "{'messages': [HumanMessage(content='I am raju', additional_kwargs={}, response_metadata={}, id='fe97aebd-c744-4e16-b8ed-b4840d51eef3'),\n",
       "  AIMessage(content='Nice to meet you, Raju! How can I help you today?', additional_kwargs={'refusal': None}, response_metadata={'token_usage': {'completion_tokens': 216, 'prompt_tokens': 10, 'total_tokens': 226, 'completion_tokens_details': {'accepted_prediction_tokens': 0, 'audio_tokens': 0, 'reasoning_tokens': 192, 'rejected_prediction_tokens': 0}, 'prompt_tokens_details': {'audio_tokens': 0, 'cached_tokens': 0}}, 'model_name': 'gpt-5-2025-08-07', 'system_fingerprint': None, 'id': 'chatcmpl-C4A9iDq0PvRO10mJbUcFJ6xtaefbC', 'service_tier': 'default', 'finish_reason': 'stop', 'logprobs': None}, id='run--776e805d-41cc-4dff-8ce1-a325ca4efa2f-0', usage_metadata={'input_tokens': 10, 'output_tokens': 216, 'total_tokens': 226, 'input_token_details': {'audio': 0, 'cache_read': 0}, 'output_token_details': {'audio': 0, 'reasoning': 192}}),\n",
       "  HumanMessage(content='What is my name', additional_kwargs={}, response_metadata={}, id='e44ec843-8e9c-4c5a-9787-a4decc0c48c8'),\n",
       "  AIMessage(content='Your name is Raju.', additional_kwargs={'refusal': None}, response_metadata={'token_usage': {'completion_tokens': 143, 'prompt_tokens': 39, 'total_tokens': 182, 'completion_tokens_details': {'accepted_prediction_tokens': 0, 'audio_tokens': 0, 'reasoning_tokens': 128, 'rejected_prediction_tokens': 0}, 'prompt_tokens_details': {'audio_tokens': 0, 'cached_tokens': 0}}, 'model_name': 'gpt-5-2025-08-07', 'system_fingerprint': None, 'id': 'chatcmpl-C4AAFHsljB0XAfmyRFfoiUXZLm6vK', 'service_tier': 'default', 'finish_reason': 'stop', 'logprobs': None}, id='run--d916a34d-5f8c-4955-bc7c-0f00cf4d6959-0', usage_metadata={'input_tokens': 39, 'output_tokens': 143, 'total_tokens': 182, 'input_token_details': {'audio': 0, 'cache_read': 0}, 'output_token_details': {'audio': 0, 'reasoning': 128}}),\n",
       "  HumanMessage(content='What is my name', additional_kwargs={}, response_metadata={}, id='5ba5ebc6-91fe-40cb-b044-467fb53225f1'),\n",
       "  AIMessage(content='Your name is Raju.', additional_kwargs={'refusal': None}, response_metadata={'token_usage': {'completion_tokens': 143, 'prompt_tokens': 59, 'total_tokens': 202, 'completion_tokens_details': {'accepted_prediction_tokens': 0, 'audio_tokens': 0, 'reasoning_tokens': 128, 'rejected_prediction_tokens': 0}, 'prompt_tokens_details': {'audio_tokens': 0, 'cached_tokens': 0}}, 'model_name': 'gpt-5-2025-08-07', 'system_fingerprint': None, 'id': 'chatcmpl-C4ABl3OTd0EvnXwuS7rzx2JDGcu3j', 'service_tier': 'default', 'finish_reason': 'stop', 'logprobs': None}, id='run--7d6fc44b-abbd-4176-add6-faf4313f5ca2-0', usage_metadata={'input_tokens': 59, 'output_tokens': 143, 'total_tokens': 202, 'input_token_details': {'audio': 0, 'cache_read': 0}, 'output_token_details': {'audio': 0, 'reasoning': 128}}),\n",
       "  HumanMessage(content='I am raju', additional_kwargs={}, response_metadata={}, id='f931ac4c-a486-4fbc-8c84-665c654bbe2b'),\n",
       "  AIMessage(content='Got it, Raju. How can I help you today?', additional_kwargs={'refusal': None}, response_metadata={'token_usage': {'completion_tokens': 214, 'prompt_tokens': 79, 'total_tokens': 293, 'completion_tokens_details': {'accepted_prediction_tokens': 0, 'audio_tokens': 0, 'reasoning_tokens': 192, 'rejected_prediction_tokens': 0}, 'prompt_tokens_details': {'audio_tokens': 0, 'cached_tokens': 0}}, 'model_name': 'gpt-5-2025-08-07', 'system_fingerprint': None, 'id': 'chatcmpl-C4AQI7FVxEyfLeEE8DQrEXN483Y69', 'service_tier': 'default', 'finish_reason': 'stop', 'logprobs': None}, id='run--3abaa7b8-1976-472b-8b4e-0173285a2a33-0', usage_metadata={'input_tokens': 79, 'output_tokens': 214, 'total_tokens': 293, 'input_token_details': {'audio': 0, 'cache_read': 0}, 'output_token_details': {'audio': 0, 'reasoning': 192}}),\n",
       "  HumanMessage(content='I am raju', additional_kwargs={}, response_metadata={}, id='0489d3da-9c20-42d8-81a6-a7b0322483a3'),\n",
       "  AIMessage(content='Hi Raju! How can I help you today?', additional_kwargs={'refusal': None}, response_metadata={'token_usage': {'completion_tokens': 212, 'prompt_tokens': 106, 'total_tokens': 318, 'completion_tokens_details': {'accepted_prediction_tokens': 0, 'audio_tokens': 0, 'reasoning_tokens': 192, 'rejected_prediction_tokens': 0}, 'prompt_tokens_details': {'audio_tokens': 0, 'cached_tokens': 0}}, 'model_name': 'gpt-5-2025-08-07', 'system_fingerprint': None, 'id': 'chatcmpl-C698phLE9V7VPe2Cco46MfYkFEiEb', 'service_tier': 'default', 'finish_reason': 'stop', 'logprobs': None}, id='run--d3bcf1ed-5fd5-41eb-94d4-1b697ad2729d-0', usage_metadata={'input_tokens': 106, 'output_tokens': 212, 'total_tokens': 318, 'input_token_details': {'audio': 0, 'cache_read': 0}, 'output_token_details': {'audio': 0, 'reasoning': 192}})]}"
      ]
     },
     "execution_count": 8,
     "metadata": {},
     "output_type": "execute_result"
    }
   ],
   "source": [
    "graph.invoke({'messages':['I am raju']}, config=config)"
   ]
  },
  {
   "cell_type": "code",
   "execution_count": 20,
   "id": "116ba1db",
   "metadata": {},
   "outputs": [
    {
     "data": {
      "text/plain": [
       "{'messages': [HumanMessage(content='I am raju', additional_kwargs={}, response_metadata={}, id='fe97aebd-c744-4e16-b8ed-b4840d51eef3'),\n",
       "  AIMessage(content='Nice to meet you, Raju! How can I help you today?', additional_kwargs={'refusal': None}, response_metadata={'token_usage': {'completion_tokens': 216, 'prompt_tokens': 10, 'total_tokens': 226, 'completion_tokens_details': {'accepted_prediction_tokens': 0, 'audio_tokens': 0, 'reasoning_tokens': 192, 'rejected_prediction_tokens': 0}, 'prompt_tokens_details': {'audio_tokens': 0, 'cached_tokens': 0}}, 'model_name': 'gpt-5-2025-08-07', 'system_fingerprint': None, 'id': 'chatcmpl-C4A9iDq0PvRO10mJbUcFJ6xtaefbC', 'service_tier': 'default', 'finish_reason': 'stop', 'logprobs': None}, id='run--776e805d-41cc-4dff-8ce1-a325ca4efa2f-0', usage_metadata={'input_tokens': 10, 'output_tokens': 216, 'total_tokens': 226, 'input_token_details': {'audio': 0, 'cache_read': 0}, 'output_token_details': {'audio': 0, 'reasoning': 192}}),\n",
       "  HumanMessage(content='What is my name', additional_kwargs={}, response_metadata={}, id='e44ec843-8e9c-4c5a-9787-a4decc0c48c8'),\n",
       "  AIMessage(content='Your name is Raju.', additional_kwargs={'refusal': None}, response_metadata={'token_usage': {'completion_tokens': 143, 'prompt_tokens': 39, 'total_tokens': 182, 'completion_tokens_details': {'accepted_prediction_tokens': 0, 'audio_tokens': 0, 'reasoning_tokens': 128, 'rejected_prediction_tokens': 0}, 'prompt_tokens_details': {'audio_tokens': 0, 'cached_tokens': 0}}, 'model_name': 'gpt-5-2025-08-07', 'system_fingerprint': None, 'id': 'chatcmpl-C4AAFHsljB0XAfmyRFfoiUXZLm6vK', 'service_tier': 'default', 'finish_reason': 'stop', 'logprobs': None}, id='run--d916a34d-5f8c-4955-bc7c-0f00cf4d6959-0', usage_metadata={'input_tokens': 39, 'output_tokens': 143, 'total_tokens': 182, 'input_token_details': {'audio': 0, 'cache_read': 0}, 'output_token_details': {'audio': 0, 'reasoning': 128}})]}"
      ]
     },
     "execution_count": 20,
     "metadata": {},
     "output_type": "execute_result"
    }
   ],
   "source": [
    "graph.invoke({'messages':['What is my name']}, config=config)"
   ]
  },
  {
   "cell_type": "code",
   "execution_count": null,
   "id": "28902674",
   "metadata": {},
   "outputs": [
    {
     "data": {
      "text/plain": [
       "<langgraph.checkpoint.sqlite.SqliteSaver at 0x251b420ead0>"
      ]
     },
     "execution_count": 21,
     "metadata": {},
     "output_type": "execute_result"
    }
   ],
   "source": [
    "sql_checkpointer."
   ]
  },
  {
   "cell_type": "code",
   "execution_count": 8,
   "id": "0d97b63f",
   "metadata": {},
   "outputs": [
    {
     "data": {
      "text/plain": [
       "{'messages': [HumanMessage(content='I am raju', additional_kwargs={}, response_metadata={}, id='fe97aebd-c744-4e16-b8ed-b4840d51eef3'),\n",
       "  AIMessage(content='Nice to meet you, Raju! How can I help you today?', additional_kwargs={'refusal': None}, response_metadata={'token_usage': {'completion_tokens': 216, 'prompt_tokens': 10, 'total_tokens': 226, 'completion_tokens_details': {'accepted_prediction_tokens': 0, 'audio_tokens': 0, 'reasoning_tokens': 192, 'rejected_prediction_tokens': 0}, 'prompt_tokens_details': {'audio_tokens': 0, 'cached_tokens': 0}}, 'model_name': 'gpt-5-2025-08-07', 'system_fingerprint': None, 'id': 'chatcmpl-C4A9iDq0PvRO10mJbUcFJ6xtaefbC', 'service_tier': 'default', 'finish_reason': 'stop', 'logprobs': None}, id='run--776e805d-41cc-4dff-8ce1-a325ca4efa2f-0', usage_metadata={'input_tokens': 10, 'output_tokens': 216, 'total_tokens': 226, 'input_token_details': {'audio': 0, 'cache_read': 0}, 'output_token_details': {'audio': 0, 'reasoning': 192}}),\n",
       "  HumanMessage(content='What is my name', additional_kwargs={}, response_metadata={}, id='e44ec843-8e9c-4c5a-9787-a4decc0c48c8'),\n",
       "  AIMessage(content='Your name is Raju.', additional_kwargs={'refusal': None}, response_metadata={'token_usage': {'completion_tokens': 143, 'prompt_tokens': 39, 'total_tokens': 182, 'completion_tokens_details': {'accepted_prediction_tokens': 0, 'audio_tokens': 0, 'reasoning_tokens': 128, 'rejected_prediction_tokens': 0}, 'prompt_tokens_details': {'audio_tokens': 0, 'cached_tokens': 0}}, 'model_name': 'gpt-5-2025-08-07', 'system_fingerprint': None, 'id': 'chatcmpl-C4AAFHsljB0XAfmyRFfoiUXZLm6vK', 'service_tier': 'default', 'finish_reason': 'stop', 'logprobs': None}, id='run--d916a34d-5f8c-4955-bc7c-0f00cf4d6959-0', usage_metadata={'input_tokens': 39, 'output_tokens': 143, 'total_tokens': 182, 'input_token_details': {'audio': 0, 'cache_read': 0}, 'output_token_details': {'audio': 0, 'reasoning': 128}}),\n",
       "  HumanMessage(content='What is my name', additional_kwargs={}, response_metadata={}, id='5ba5ebc6-91fe-40cb-b044-467fb53225f1'),\n",
       "  AIMessage(content='Your name is Raju.', additional_kwargs={'refusal': None}, response_metadata={'token_usage': {'completion_tokens': 143, 'prompt_tokens': 59, 'total_tokens': 202, 'completion_tokens_details': {'accepted_prediction_tokens': 0, 'audio_tokens': 0, 'reasoning_tokens': 128, 'rejected_prediction_tokens': 0}, 'prompt_tokens_details': {'audio_tokens': 0, 'cached_tokens': 0}}, 'model_name': 'gpt-5-2025-08-07', 'system_fingerprint': None, 'id': 'chatcmpl-C4ABl3OTd0EvnXwuS7rzx2JDGcu3j', 'service_tier': 'default', 'finish_reason': 'stop', 'logprobs': None}, id='run--7d6fc44b-abbd-4176-add6-faf4313f5ca2-0', usage_metadata={'input_tokens': 59, 'output_tokens': 143, 'total_tokens': 202, 'input_token_details': {'audio': 0, 'cache_read': 0}, 'output_token_details': {'audio': 0, 'reasoning': 128}})]}"
      ]
     },
     "execution_count": 8,
     "metadata": {},
     "output_type": "execute_result"
    }
   ],
   "source": [
    "graph.invoke({'messages':['What is my name']}, config=config)"
   ]
  },
  {
   "cell_type": "code",
   "execution_count": 9,
   "id": "049b7de8",
   "metadata": {},
   "outputs": [],
   "source": [
    "config_2 = {'configurable':{'thread_id':'sql_mem_2'}}"
   ]
  },
  {
   "cell_type": "code",
   "execution_count": 10,
   "id": "43720ec1",
   "metadata": {},
   "outputs": [
    {
     "data": {
      "text/plain": [
       "{'messages': [HumanMessage(content='What is my name', additional_kwargs={}, response_metadata={}, id='49349c7e-c3bc-4da4-9164-ea2c3b0bc36e'),\n",
       "  AIMessage(content='I don’t know your name yet. What would you like me to call you?', additional_kwargs={'refusal': None}, response_metadata={'token_usage': {'completion_tokens': 154, 'prompt_tokens': 10, 'total_tokens': 164, 'completion_tokens_details': {'accepted_prediction_tokens': 0, 'audio_tokens': 0, 'reasoning_tokens': 128, 'rejected_prediction_tokens': 0}, 'prompt_tokens_details': {'audio_tokens': 0, 'cached_tokens': 0}}, 'model_name': 'gpt-5-2025-08-07', 'system_fingerprint': None, 'id': 'chatcmpl-C4APUunAaeIbHkhAJpmOZ5wbyJERg', 'service_tier': 'default', 'finish_reason': 'stop', 'logprobs': None}, id='run--f3d8f1de-93f4-47fc-a7c6-504609c1e308-0', usage_metadata={'input_tokens': 10, 'output_tokens': 154, 'total_tokens': 164, 'input_token_details': {'audio': 0, 'cache_read': 0}, 'output_token_details': {'audio': 0, 'reasoning': 128}}),\n",
       "  HumanMessage(content='I am kaju', additional_kwargs={}, response_metadata={}, id='c6fab276-df8e-49f7-b648-4616599cd52b'),\n",
       "  AIMessage(content='Nice to meet you, Kaju! How can I help you today?', additional_kwargs={'refusal': None}, response_metadata={'token_usage': {'completion_tokens': 344, 'prompt_tokens': 41, 'total_tokens': 385, 'completion_tokens_details': {'accepted_prediction_tokens': 0, 'audio_tokens': 0, 'reasoning_tokens': 320, 'rejected_prediction_tokens': 0}, 'prompt_tokens_details': {'audio_tokens': 0, 'cached_tokens': 0}}, 'model_name': 'gpt-5-2025-08-07', 'system_fingerprint': None, 'id': 'chatcmpl-C4APtlA4fQnUmD60ZTcjBDTipk9Fx', 'service_tier': 'default', 'finish_reason': 'stop', 'logprobs': None}, id='run--50e5084f-af9c-4c22-8caa-7931bf1056bb-0', usage_metadata={'input_tokens': 41, 'output_tokens': 344, 'total_tokens': 385, 'input_token_details': {'audio': 0, 'cache_read': 0}, 'output_token_details': {'audio': 0, 'reasoning': 320}}),\n",
       "  HumanMessage(content='What is my name', additional_kwargs={}, response_metadata={}, id='03b6953c-766a-460d-a8e5-6f8f7441f780'),\n",
       "  AIMessage(content='Your name is Kaju.', additional_kwargs={'refusal': None}, response_metadata={'token_usage': {'completion_tokens': 143, 'prompt_tokens': 70, 'total_tokens': 213, 'completion_tokens_details': {'accepted_prediction_tokens': 0, 'audio_tokens': 0, 'reasoning_tokens': 128, 'rejected_prediction_tokens': 0}, 'prompt_tokens_details': {'audio_tokens': 0, 'cached_tokens': 0}}, 'model_name': 'gpt-5-2025-08-07', 'system_fingerprint': None, 'id': 'chatcmpl-C4AQqjp9f41u4phf3idUSYvmBWPJe', 'service_tier': 'default', 'finish_reason': 'stop', 'logprobs': None}, id='run--25905678-1e7f-4654-88c9-c076ec6656ba-0', usage_metadata={'input_tokens': 70, 'output_tokens': 143, 'total_tokens': 213, 'input_token_details': {'audio': 0, 'cache_read': 0}, 'output_token_details': {'audio': 0, 'reasoning': 128}})]}"
      ]
     },
     "execution_count": 10,
     "metadata": {},
     "output_type": "execute_result"
    }
   ],
   "source": [
    "\n",
    "graph.invoke({'messages':['What is my name']}, config=config_2)"
   ]
  },
  {
   "cell_type": "code",
   "execution_count": 10,
   "id": "2d2ae59f",
   "metadata": {},
   "outputs": [
    {
     "data": {
      "text/plain": [
       "{'messages': [HumanMessage(content='What is my name', additional_kwargs={}, response_metadata={}, id='49349c7e-c3bc-4da4-9164-ea2c3b0bc36e'),\n",
       "  AIMessage(content='I don’t know your name yet. What would you like me to call you?', additional_kwargs={'refusal': None}, response_metadata={'token_usage': {'completion_tokens': 154, 'prompt_tokens': 10, 'total_tokens': 164, 'completion_tokens_details': {'accepted_prediction_tokens': 0, 'audio_tokens': 0, 'reasoning_tokens': 128, 'rejected_prediction_tokens': 0}, 'prompt_tokens_details': {'audio_tokens': 0, 'cached_tokens': 0}}, 'model_name': 'gpt-5-2025-08-07', 'system_fingerprint': None, 'id': 'chatcmpl-C4APUunAaeIbHkhAJpmOZ5wbyJERg', 'service_tier': 'default', 'finish_reason': 'stop', 'logprobs': None}, id='run--f3d8f1de-93f4-47fc-a7c6-504609c1e308-0', usage_metadata={'input_tokens': 10, 'output_tokens': 154, 'total_tokens': 164, 'input_token_details': {'audio': 0, 'cache_read': 0}, 'output_token_details': {'audio': 0, 'reasoning': 128}}),\n",
       "  HumanMessage(content='I am kaju', additional_kwargs={}, response_metadata={}, id='c6fab276-df8e-49f7-b648-4616599cd52b'),\n",
       "  AIMessage(content='Nice to meet you, Kaju! How can I help you today?', additional_kwargs={'refusal': None}, response_metadata={'token_usage': {'completion_tokens': 344, 'prompt_tokens': 41, 'total_tokens': 385, 'completion_tokens_details': {'accepted_prediction_tokens': 0, 'audio_tokens': 0, 'reasoning_tokens': 320, 'rejected_prediction_tokens': 0}, 'prompt_tokens_details': {'audio_tokens': 0, 'cached_tokens': 0}}, 'model_name': 'gpt-5-2025-08-07', 'system_fingerprint': None, 'id': 'chatcmpl-C4APtlA4fQnUmD60ZTcjBDTipk9Fx', 'service_tier': 'default', 'finish_reason': 'stop', 'logprobs': None}, id='run--50e5084f-af9c-4c22-8caa-7931bf1056bb-0', usage_metadata={'input_tokens': 41, 'output_tokens': 344, 'total_tokens': 385, 'input_token_details': {'audio': 0, 'cache_read': 0}, 'output_token_details': {'audio': 0, 'reasoning': 320}})]}"
      ]
     },
     "execution_count": 10,
     "metadata": {},
     "output_type": "execute_result"
    }
   ],
   "source": [
    "graph.invoke({'messages':['I am kaju']}, config=config_2)"
   ]
  },
  {
   "cell_type": "code",
   "execution_count": null,
   "id": "7d627e31",
   "metadata": {},
   "outputs": [
    {
     "name": "stdout",
     "output_type": "stream",
     "text": [
      "sql_mem_1 messages:\n",
      "[HumanMessage(content='I am raju', additional_kwargs={}, response_metadata={}, id='fe97aebd-c744-4e16-b8ed-b4840d51eef3'), AIMessage(content='Nice to meet you, Raju! How can I help you today?', additional_kwargs={'refusal': None}, response_metadata={'token_usage': {'completion_tokens': 216, 'prompt_tokens': 10, 'total_tokens': 226, 'completion_tokens_details': {'accepted_prediction_tokens': 0, 'audio_tokens': 0, 'reasoning_tokens': 192, 'rejected_prediction_tokens': 0}, 'prompt_tokens_details': {'audio_tokens': 0, 'cached_tokens': 0}}, 'model_name': 'gpt-5-2025-08-07', 'system_fingerprint': None, 'id': 'chatcmpl-C4A9iDq0PvRO10mJbUcFJ6xtaefbC', 'service_tier': 'default', 'finish_reason': 'stop', 'logprobs': None}, id='run--776e805d-41cc-4dff-8ce1-a325ca4efa2f-0', usage_metadata={'input_tokens': 10, 'output_tokens': 216, 'total_tokens': 226, 'input_token_details': {'audio': 0, 'cache_read': 0}, 'output_token_details': {'audio': 0, 'reasoning': 192}}), HumanMessage(content='What is my name', additional_kwargs={}, response_metadata={}, id='e44ec843-8e9c-4c5a-9787-a4decc0c48c8'), AIMessage(content='Your name is Raju.', additional_kwargs={'refusal': None}, response_metadata={'token_usage': {'completion_tokens': 143, 'prompt_tokens': 39, 'total_tokens': 182, 'completion_tokens_details': {'accepted_prediction_tokens': 0, 'audio_tokens': 0, 'reasoning_tokens': 128, 'rejected_prediction_tokens': 0}, 'prompt_tokens_details': {'audio_tokens': 0, 'cached_tokens': 0}}, 'model_name': 'gpt-5-2025-08-07', 'system_fingerprint': None, 'id': 'chatcmpl-C4AAFHsljB0XAfmyRFfoiUXZLm6vK', 'service_tier': 'default', 'finish_reason': 'stop', 'logprobs': None}, id='run--d916a34d-5f8c-4955-bc7c-0f00cf4d6959-0', usage_metadata={'input_tokens': 39, 'output_tokens': 143, 'total_tokens': 182, 'input_token_details': {'audio': 0, 'cache_read': 0}, 'output_token_details': {'audio': 0, 'reasoning': 128}}), HumanMessage(content='What is my name', additional_kwargs={}, response_metadata={}, id='5ba5ebc6-91fe-40cb-b044-467fb53225f1'), AIMessage(content='Your name is Raju.', additional_kwargs={'refusal': None}, response_metadata={'token_usage': {'completion_tokens': 143, 'prompt_tokens': 59, 'total_tokens': 202, 'completion_tokens_details': {'accepted_prediction_tokens': 0, 'audio_tokens': 0, 'reasoning_tokens': 128, 'rejected_prediction_tokens': 0}, 'prompt_tokens_details': {'audio_tokens': 0, 'cached_tokens': 0}}, 'model_name': 'gpt-5-2025-08-07', 'system_fingerprint': None, 'id': 'chatcmpl-C4ABl3OTd0EvnXwuS7rzx2JDGcu3j', 'service_tier': 'default', 'finish_reason': 'stop', 'logprobs': None}, id='run--7d6fc44b-abbd-4176-add6-faf4313f5ca2-0', usage_metadata={'input_tokens': 59, 'output_tokens': 143, 'total_tokens': 202, 'input_token_details': {'audio': 0, 'cache_read': 0}, 'output_token_details': {'audio': 0, 'reasoning': 128}}), HumanMessage(content='I am raju', additional_kwargs={}, response_metadata={}, id='f931ac4c-a486-4fbc-8c84-665c654bbe2b'), AIMessage(content='Got it, Raju. How can I help you today?', additional_kwargs={'refusal': None}, response_metadata={'token_usage': {'completion_tokens': 214, 'prompt_tokens': 79, 'total_tokens': 293, 'completion_tokens_details': {'accepted_prediction_tokens': 0, 'audio_tokens': 0, 'reasoning_tokens': 192, 'rejected_prediction_tokens': 0}, 'prompt_tokens_details': {'audio_tokens': 0, 'cached_tokens': 0}}, 'model_name': 'gpt-5-2025-08-07', 'system_fingerprint': None, 'id': 'chatcmpl-C4AQI7FVxEyfLeEE8DQrEXN483Y69', 'service_tier': 'default', 'finish_reason': 'stop', 'logprobs': None}, id='run--3abaa7b8-1976-472b-8b4e-0173285a2a33-0', usage_metadata={'input_tokens': 79, 'output_tokens': 214, 'total_tokens': 293, 'input_token_details': {'audio': 0, 'cache_read': 0}, 'output_token_details': {'audio': 0, 'reasoning': 192}})]\n"
     ]
    }
   ],
   "source": [
    "# Get latest state for a thread_id\n",
    "snap1 = graph.get_state(config)          # {'configurable': {'thread_id': 'sql_mem_1'}}\n",
    "print(\"sql_mem_1 messages:\")\n",
    "print(snap1.values.get(\"messages\", []))"
   ]
  },
  {
   "cell_type": "code",
   "execution_count": 18,
   "id": "e2ce0853",
   "metadata": {},
   "outputs": [
    {
     "name": "stdout",
     "output_type": "stream",
     "text": [
      "sql_mem_1 messages:\n",
      "[HumanMessage(content='What is my name', additional_kwargs={}, response_metadata={}, id='49349c7e-c3bc-4da4-9164-ea2c3b0bc36e'), AIMessage(content='I don’t know your name yet. What would you like me to call you?', additional_kwargs={'refusal': None}, response_metadata={'token_usage': {'completion_tokens': 154, 'prompt_tokens': 10, 'total_tokens': 164, 'completion_tokens_details': {'accepted_prediction_tokens': 0, 'audio_tokens': 0, 'reasoning_tokens': 128, 'rejected_prediction_tokens': 0}, 'prompt_tokens_details': {'audio_tokens': 0, 'cached_tokens': 0}}, 'model_name': 'gpt-5-2025-08-07', 'system_fingerprint': None, 'id': 'chatcmpl-C4APUunAaeIbHkhAJpmOZ5wbyJERg', 'service_tier': 'default', 'finish_reason': 'stop', 'logprobs': None}, id='run--f3d8f1de-93f4-47fc-a7c6-504609c1e308-0', usage_metadata={'input_tokens': 10, 'output_tokens': 154, 'total_tokens': 164, 'input_token_details': {'audio': 0, 'cache_read': 0}, 'output_token_details': {'audio': 0, 'reasoning': 128}}), HumanMessage(content='I am kaju', additional_kwargs={}, response_metadata={}, id='c6fab276-df8e-49f7-b648-4616599cd52b'), AIMessage(content='Nice to meet you, Kaju! How can I help you today?', additional_kwargs={'refusal': None}, response_metadata={'token_usage': {'completion_tokens': 344, 'prompt_tokens': 41, 'total_tokens': 385, 'completion_tokens_details': {'accepted_prediction_tokens': 0, 'audio_tokens': 0, 'reasoning_tokens': 320, 'rejected_prediction_tokens': 0}, 'prompt_tokens_details': {'audio_tokens': 0, 'cached_tokens': 0}}, 'model_name': 'gpt-5-2025-08-07', 'system_fingerprint': None, 'id': 'chatcmpl-C4APtlA4fQnUmD60ZTcjBDTipk9Fx', 'service_tier': 'default', 'finish_reason': 'stop', 'logprobs': None}, id='run--50e5084f-af9c-4c22-8caa-7931bf1056bb-0', usage_metadata={'input_tokens': 41, 'output_tokens': 344, 'total_tokens': 385, 'input_token_details': {'audio': 0, 'cache_read': 0}, 'output_token_details': {'audio': 0, 'reasoning': 320}}), HumanMessage(content='What is my name', additional_kwargs={}, response_metadata={}, id='03b6953c-766a-460d-a8e5-6f8f7441f780'), AIMessage(content='Your name is Kaju.', additional_kwargs={'refusal': None}, response_metadata={'token_usage': {'completion_tokens': 143, 'prompt_tokens': 70, 'total_tokens': 213, 'completion_tokens_details': {'accepted_prediction_tokens': 0, 'audio_tokens': 0, 'reasoning_tokens': 128, 'rejected_prediction_tokens': 0}, 'prompt_tokens_details': {'audio_tokens': 0, 'cached_tokens': 0}}, 'model_name': 'gpt-5-2025-08-07', 'system_fingerprint': None, 'id': 'chatcmpl-C4AQqjp9f41u4phf3idUSYvmBWPJe', 'service_tier': 'default', 'finish_reason': 'stop', 'logprobs': None}, id='run--25905678-1e7f-4654-88c9-c076ec6656ba-0', usage_metadata={'input_tokens': 70, 'output_tokens': 143, 'total_tokens': 213, 'input_token_details': {'audio': 0, 'cache_read': 0}, 'output_token_details': {'audio': 0, 'reasoning': 128}})]\n"
     ]
    }
   ],
   "source": [
    "# Get latest state for a thread_id\n",
    "snap1 = graph.get_state(config_2)          # {'configurable': {'thread_id': 'sql_mem_1'}}\n",
    "print(\"sql_mem_1 messages:\")\n",
    "print(snap1.values.get(\"messages\", []))"
   ]
  },
  {
   "cell_type": "code",
   "execution_count": null,
   "id": "7fe5fce5",
   "metadata": {},
   "outputs": [],
   "source": []
  }
 ],
 "metadata": {
  "kernelspec": {
   "display_name": "venv",
   "language": "python",
   "name": "python3"
  },
  "language_info": {
   "codemirror_mode": {
    "name": "ipython",
    "version": 3
   },
   "file_extension": ".py",
   "mimetype": "text/x-python",
   "name": "python",
   "nbconvert_exporter": "python",
   "pygments_lexer": "ipython3",
   "version": "3.12.0"
  }
 },
 "nbformat": 4,
 "nbformat_minor": 5
}
